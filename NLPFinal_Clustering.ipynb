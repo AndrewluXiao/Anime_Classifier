{
 "cells": [
  {
   "cell_type": "markdown",
   "metadata": {
    "id": "wmpodQkfokCX"
   },
   "source": [
    "# Import Packages"
   ]
  },
  {
   "cell_type": "code",
   "execution_count": 1,
   "metadata": {
    "id": "gxD_3fs1tX_E"
   },
   "outputs": [],
   "source": [
    "import random\n",
    "import matplotlib.pyplot as plt\n",
    "import numpy as np\n",
    "import pandas as pd\n",
    "import ast\n",
    "from kneed import KneeLocator, DataGenerator\n",
    "import seaborn as sns\n",
    "import scipy.cluster.hierarchy as sch\n",
    "\n",
    "import sklearn\n",
    "from sklearn import metrics\n",
    "from sklearn.feature_extraction.text import CountVectorizer\n",
    "from sklearn.feature_extraction.text import TfidfVectorizer\n",
    "import sklearn.cluster\n",
    "from sklearn.cluster import MiniBatchKMeans\n",
    "from sklearn.cluster import KMeans\n",
    "from sklearn.cluster import DBSCAN\n",
    "\n",
    "from sklearn.neighbors import NearestNeighbors\n",
    "from sklearn.model_selection import train_test_split\n",
    "from sklearn.preprocessing import StandardScaler\n",
    "from sklearn.decomposition import PCA \n",
    "from sklearn.datasets import make_blobs\n"
   ]
  },
  {
   "cell_type": "code",
   "execution_count": 2,
   "metadata": {
    "colab": {
     "base_uri": "https://localhost:8080/"
    },
    "id": "Ld49Hbup17Nn",
    "outputId": "042d0657-5445-4944-bf0f-9e4f6a98e2db"
   },
   "outputs": [
    {
     "data": {
      "text/plain": [
       "'C:\\\\Users\\\\mhann\\\\OneDrive - UC Irvine\\\\Q4 Spring Session\\\\NLP\\\\NLP Final Project'"
      ]
     },
     "execution_count": 2,
     "metadata": {},
     "output_type": "execute_result"
    }
   ],
   "source": [
    "import os\n",
    "os.getcwd()"
   ]
  },
  {
   "cell_type": "markdown",
   "metadata": {},
   "source": [
    "# Load Data"
   ]
  },
  {
   "cell_type": "code",
   "execution_count": 3,
   "metadata": {
    "colab": {
     "base_uri": "https://localhost:8080/",
     "height": 424
    },
    "id": "CPSdjUHDoSnf",
    "outputId": "fb8ce316-e26e-4d1a-c79c-95b8c442fe35"
   },
   "outputs": [
    {
     "data": {
      "text/html": [
       "<div>\n",
       "<style scoped>\n",
       "    .dataframe tbody tr th:only-of-type {\n",
       "        vertical-align: middle;\n",
       "    }\n",
       "\n",
       "    .dataframe tbody tr th {\n",
       "        vertical-align: top;\n",
       "    }\n",
       "\n",
       "    .dataframe thead th {\n",
       "        text-align: right;\n",
       "    }\n",
       "</style>\n",
       "<table border=\"1\" class=\"dataframe\">\n",
       "  <thead>\n",
       "    <tr style=\"text-align: right;\">\n",
       "      <th></th>\n",
       "      <th>Unnamed: 0</th>\n",
       "      <th>title</th>\n",
       "      <th>synopsis</th>\n",
       "      <th>genre</th>\n",
       "      <th>rating</th>\n",
       "      <th>adult</th>\n",
       "    </tr>\n",
       "  </thead>\n",
       "  <tbody>\n",
       "    <tr>\n",
       "      <th>0</th>\n",
       "      <td>0</td>\n",
       "      <td>Haikyuu!! Second Season</td>\n",
       "      <td>Following their participation at the Inter-Hig...</td>\n",
       "      <td>['Comedy', 'Sports', 'Drama', 'School', 'Shoun...</td>\n",
       "      <td>PG-13 - Teens 13 or older</td>\n",
       "      <td>1</td>\n",
       "    </tr>\n",
       "    <tr>\n",
       "      <th>1</th>\n",
       "      <td>1</td>\n",
       "      <td>Shigatsu wa Kimi no Uso</td>\n",
       "      <td>Music accompanies the path of the human metron...</td>\n",
       "      <td>['Drama', 'Music', 'Romance', 'School', 'Shoun...</td>\n",
       "      <td>PG-13 - Teens 13 or older</td>\n",
       "      <td>1</td>\n",
       "    </tr>\n",
       "    <tr>\n",
       "      <th>2</th>\n",
       "      <td>2</td>\n",
       "      <td>Made in Abyss</td>\n",
       "      <td>The Abyss—a gaping chasm stretching down into ...</td>\n",
       "      <td>['Sci-Fi', 'Adventure', 'Mystery', 'Drama', 'F...</td>\n",
       "      <td>PG - Children</td>\n",
       "      <td>0</td>\n",
       "    </tr>\n",
       "    <tr>\n",
       "      <th>3</th>\n",
       "      <td>3</td>\n",
       "      <td>Fullmetal Alchemist: Brotherhood</td>\n",
       "      <td>\"In order for something to be obtained, someth...</td>\n",
       "      <td>['Action', 'Military', 'Adventure', 'Comedy', ...</td>\n",
       "      <td>PG-13 - Teens 13 or older</td>\n",
       "      <td>1</td>\n",
       "    </tr>\n",
       "    <tr>\n",
       "      <th>4</th>\n",
       "      <td>4</td>\n",
       "      <td>Kizumonogatari III: Reiketsu-hen</td>\n",
       "      <td>After helping revive the legendary vampire Kis...</td>\n",
       "      <td>['Action', 'Mystery', 'Supernatural', 'Vampire']</td>\n",
       "      <td>PG-13 - Teens 13 or older</td>\n",
       "      <td>1</td>\n",
       "    </tr>\n",
       "    <tr>\n",
       "      <th>...</th>\n",
       "      <td>...</td>\n",
       "      <td>...</td>\n",
       "      <td>...</td>\n",
       "      <td>...</td>\n",
       "      <td>...</td>\n",
       "      <td>...</td>\n",
       "    </tr>\n",
       "    <tr>\n",
       "      <th>13741</th>\n",
       "      <td>14473</td>\n",
       "      <td>Koisuru Boukun</td>\n",
       "      <td>Tetsuhiro Morinaga is in love with his uppercl...</td>\n",
       "      <td>['Comedy', 'Romance', 'Yaoi']</td>\n",
       "      <td>G - All Ages</td>\n",
       "      <td>1</td>\n",
       "    </tr>\n",
       "    <tr>\n",
       "      <th>13742</th>\n",
       "      <td>14474</td>\n",
       "      <td>Tentou Mushi no Uta</td>\n",
       "      <td>The adventures of seven orphan who live in pov...</td>\n",
       "      <td>['Drama', 'Slice of Life']</td>\n",
       "      <td>G - All Ages</td>\n",
       "      <td>0</td>\n",
       "    </tr>\n",
       "    <tr>\n",
       "      <th>13743</th>\n",
       "      <td>14475</td>\n",
       "      <td>Koakuma Kanojo The Animation</td>\n",
       "      <td>It is rumored that a mysterious DVD exists and...</td>\n",
       "      <td>['Hentai', 'Supernatural', 'School']</td>\n",
       "      <td>R - 17+ (violence &amp; profanity)</td>\n",
       "      <td>1</td>\n",
       "    </tr>\n",
       "    <tr>\n",
       "      <th>13744</th>\n",
       "      <td>14476</td>\n",
       "      <td>Tamayura: More Aggressive Picture Drama</td>\n",
       "      <td>Picture drama included in the 1st Blu-ray and ...</td>\n",
       "      <td>['Comedy', 'Drama']</td>\n",
       "      <td>G - All Ages</td>\n",
       "      <td>0</td>\n",
       "    </tr>\n",
       "    <tr>\n",
       "      <th>13745</th>\n",
       "      <td>14477</td>\n",
       "      <td>Takunomi.</td>\n",
       "      <td>20-year-old Michiru Amatsuki moved to Tokyo du...</td>\n",
       "      <td>['Comedy', 'Slice of Life']</td>\n",
       "      <td>PG-13 - Teens 13 or older</td>\n",
       "      <td>1</td>\n",
       "    </tr>\n",
       "  </tbody>\n",
       "</table>\n",
       "<p>13746 rows × 6 columns</p>\n",
       "</div>"
      ],
      "text/plain": [
       "       Unnamed: 0                                    title  \\\n",
       "0               0                  Haikyuu!! Second Season   \n",
       "1               1                  Shigatsu wa Kimi no Uso   \n",
       "2               2                            Made in Abyss   \n",
       "3               3         Fullmetal Alchemist: Brotherhood   \n",
       "4               4         Kizumonogatari III: Reiketsu-hen   \n",
       "...           ...                                      ...   \n",
       "13741       14473                           Koisuru Boukun   \n",
       "13742       14474                      Tentou Mushi no Uta   \n",
       "13743       14475             Koakuma Kanojo The Animation   \n",
       "13744       14476  Tamayura: More Aggressive Picture Drama   \n",
       "13745       14477                                Takunomi.   \n",
       "\n",
       "                                                synopsis  \\\n",
       "0      Following their participation at the Inter-Hig...   \n",
       "1      Music accompanies the path of the human metron...   \n",
       "2      The Abyss—a gaping chasm stretching down into ...   \n",
       "3      \"In order for something to be obtained, someth...   \n",
       "4      After helping revive the legendary vampire Kis...   \n",
       "...                                                  ...   \n",
       "13741  Tetsuhiro Morinaga is in love with his uppercl...   \n",
       "13742  The adventures of seven orphan who live in pov...   \n",
       "13743  It is rumored that a mysterious DVD exists and...   \n",
       "13744  Picture drama included in the 1st Blu-ray and ...   \n",
       "13745  20-year-old Michiru Amatsuki moved to Tokyo du...   \n",
       "\n",
       "                                                   genre  \\\n",
       "0      ['Comedy', 'Sports', 'Drama', 'School', 'Shoun...   \n",
       "1      ['Drama', 'Music', 'Romance', 'School', 'Shoun...   \n",
       "2      ['Sci-Fi', 'Adventure', 'Mystery', 'Drama', 'F...   \n",
       "3      ['Action', 'Military', 'Adventure', 'Comedy', ...   \n",
       "4       ['Action', 'Mystery', 'Supernatural', 'Vampire']   \n",
       "...                                                  ...   \n",
       "13741                      ['Comedy', 'Romance', 'Yaoi']   \n",
       "13742                         ['Drama', 'Slice of Life']   \n",
       "13743               ['Hentai', 'Supernatural', 'School']   \n",
       "13744                                ['Comedy', 'Drama']   \n",
       "13745                        ['Comedy', 'Slice of Life']   \n",
       "\n",
       "                               rating  adult  \n",
       "0           PG-13 - Teens 13 or older      1  \n",
       "1           PG-13 - Teens 13 or older      1  \n",
       "2                       PG - Children      0  \n",
       "3           PG-13 - Teens 13 or older      1  \n",
       "4           PG-13 - Teens 13 or older      1  \n",
       "...                               ...    ...  \n",
       "13741                    G - All Ages      1  \n",
       "13742                    G - All Ages      0  \n",
       "13743  R - 17+ (violence & profanity)      1  \n",
       "13744                    G - All Ages      0  \n",
       "13745       PG-13 - Teens 13 or older      1  \n",
       "\n",
       "[13746 rows x 6 columns]"
      ]
     },
     "execution_count": 3,
     "metadata": {},
     "output_type": "execute_result"
    }
   ],
   "source": [
    "df = pd.read_csv(r\"C:\\\\Users\\\\mhann\\\\OneDrive - UC Irvine\\\\Q4 Spring Session\\\\NLP\\\\NLP Final Project\\animes_df.csv\")\n",
    "df"
   ]
  },
  {
   "cell_type": "markdown",
   "metadata": {},
   "source": [
    "# Data Preprocessing for Clustering - Dummifying Genres"
   ]
  },
  {
   "cell_type": "code",
   "execution_count": 4,
   "metadata": {
    "colab": {
     "base_uri": "https://localhost:8080/",
     "height": 328
    },
    "id": "x4KQROWl-9Qk",
    "outputId": "567567a8-1948-4462-8f81-771d99bc4c2e"
   },
   "outputs": [],
   "source": [
    "df.genre = df.genre.apply(lambda s: list(ast.literal_eval(s)))"
   ]
  },
  {
   "cell_type": "code",
   "execution_count": 5,
   "metadata": {
    "colab": {
     "base_uri": "https://localhost:8080/"
    },
    "id": "lZ1oqAzSAY2m",
    "outputId": "10f652e1-213c-49f8-c2e9-4de34b556b1e"
   },
   "outputs": [
    {
     "data": {
      "text/plain": [
       "'Sports'"
      ]
     },
     "execution_count": 5,
     "metadata": {},
     "output_type": "execute_result"
    }
   ],
   "source": [
    "df['genre'][0][1]"
   ]
  },
  {
   "cell_type": "code",
   "execution_count": 6,
   "metadata": {},
   "outputs": [
    {
     "data": {
      "text/html": [
       "<div>\n",
       "<style scoped>\n",
       "    .dataframe tbody tr th:only-of-type {\n",
       "        vertical-align: middle;\n",
       "    }\n",
       "\n",
       "    .dataframe tbody tr th {\n",
       "        vertical-align: top;\n",
       "    }\n",
       "\n",
       "    .dataframe thead th {\n",
       "        text-align: right;\n",
       "    }\n",
       "</style>\n",
       "<table border=\"1\" class=\"dataframe\">\n",
       "  <thead>\n",
       "    <tr style=\"text-align: right;\">\n",
       "      <th></th>\n",
       "      <th>Action</th>\n",
       "      <th>Adventure</th>\n",
       "      <th>Cars</th>\n",
       "      <th>Comedy</th>\n",
       "      <th>Dementia</th>\n",
       "      <th>Demons</th>\n",
       "      <th>Drama</th>\n",
       "      <th>Ecchi</th>\n",
       "      <th>Fantasy</th>\n",
       "      <th>Game</th>\n",
       "      <th>...</th>\n",
       "      <th>Shounen Ai</th>\n",
       "      <th>Slice of Life</th>\n",
       "      <th>Space</th>\n",
       "      <th>Sports</th>\n",
       "      <th>Super Power</th>\n",
       "      <th>Supernatural</th>\n",
       "      <th>Thriller</th>\n",
       "      <th>Vampire</th>\n",
       "      <th>Yaoi</th>\n",
       "      <th>Yuri</th>\n",
       "    </tr>\n",
       "  </thead>\n",
       "  <tbody>\n",
       "    <tr>\n",
       "      <th>0</th>\n",
       "      <td>0</td>\n",
       "      <td>0</td>\n",
       "      <td>0</td>\n",
       "      <td>1</td>\n",
       "      <td>0</td>\n",
       "      <td>0</td>\n",
       "      <td>1</td>\n",
       "      <td>0</td>\n",
       "      <td>0</td>\n",
       "      <td>0</td>\n",
       "      <td>...</td>\n",
       "      <td>0</td>\n",
       "      <td>0</td>\n",
       "      <td>0</td>\n",
       "      <td>1</td>\n",
       "      <td>0</td>\n",
       "      <td>0</td>\n",
       "      <td>0</td>\n",
       "      <td>0</td>\n",
       "      <td>0</td>\n",
       "      <td>0</td>\n",
       "    </tr>\n",
       "    <tr>\n",
       "      <th>1</th>\n",
       "      <td>0</td>\n",
       "      <td>0</td>\n",
       "      <td>0</td>\n",
       "      <td>0</td>\n",
       "      <td>0</td>\n",
       "      <td>0</td>\n",
       "      <td>1</td>\n",
       "      <td>0</td>\n",
       "      <td>0</td>\n",
       "      <td>0</td>\n",
       "      <td>...</td>\n",
       "      <td>0</td>\n",
       "      <td>0</td>\n",
       "      <td>0</td>\n",
       "      <td>0</td>\n",
       "      <td>0</td>\n",
       "      <td>0</td>\n",
       "      <td>0</td>\n",
       "      <td>0</td>\n",
       "      <td>0</td>\n",
       "      <td>0</td>\n",
       "    </tr>\n",
       "    <tr>\n",
       "      <th>2</th>\n",
       "      <td>0</td>\n",
       "      <td>1</td>\n",
       "      <td>0</td>\n",
       "      <td>0</td>\n",
       "      <td>0</td>\n",
       "      <td>0</td>\n",
       "      <td>1</td>\n",
       "      <td>0</td>\n",
       "      <td>1</td>\n",
       "      <td>0</td>\n",
       "      <td>...</td>\n",
       "      <td>0</td>\n",
       "      <td>0</td>\n",
       "      <td>0</td>\n",
       "      <td>0</td>\n",
       "      <td>0</td>\n",
       "      <td>0</td>\n",
       "      <td>0</td>\n",
       "      <td>0</td>\n",
       "      <td>0</td>\n",
       "      <td>0</td>\n",
       "    </tr>\n",
       "    <tr>\n",
       "      <th>3</th>\n",
       "      <td>1</td>\n",
       "      <td>1</td>\n",
       "      <td>0</td>\n",
       "      <td>1</td>\n",
       "      <td>0</td>\n",
       "      <td>0</td>\n",
       "      <td>1</td>\n",
       "      <td>0</td>\n",
       "      <td>1</td>\n",
       "      <td>0</td>\n",
       "      <td>...</td>\n",
       "      <td>0</td>\n",
       "      <td>0</td>\n",
       "      <td>0</td>\n",
       "      <td>0</td>\n",
       "      <td>0</td>\n",
       "      <td>0</td>\n",
       "      <td>0</td>\n",
       "      <td>0</td>\n",
       "      <td>0</td>\n",
       "      <td>0</td>\n",
       "    </tr>\n",
       "    <tr>\n",
       "      <th>4</th>\n",
       "      <td>1</td>\n",
       "      <td>0</td>\n",
       "      <td>0</td>\n",
       "      <td>0</td>\n",
       "      <td>0</td>\n",
       "      <td>0</td>\n",
       "      <td>0</td>\n",
       "      <td>0</td>\n",
       "      <td>0</td>\n",
       "      <td>0</td>\n",
       "      <td>...</td>\n",
       "      <td>0</td>\n",
       "      <td>0</td>\n",
       "      <td>0</td>\n",
       "      <td>0</td>\n",
       "      <td>0</td>\n",
       "      <td>1</td>\n",
       "      <td>0</td>\n",
       "      <td>1</td>\n",
       "      <td>0</td>\n",
       "      <td>0</td>\n",
       "    </tr>\n",
       "    <tr>\n",
       "      <th>...</th>\n",
       "      <td>...</td>\n",
       "      <td>...</td>\n",
       "      <td>...</td>\n",
       "      <td>...</td>\n",
       "      <td>...</td>\n",
       "      <td>...</td>\n",
       "      <td>...</td>\n",
       "      <td>...</td>\n",
       "      <td>...</td>\n",
       "      <td>...</td>\n",
       "      <td>...</td>\n",
       "      <td>...</td>\n",
       "      <td>...</td>\n",
       "      <td>...</td>\n",
       "      <td>...</td>\n",
       "      <td>...</td>\n",
       "      <td>...</td>\n",
       "      <td>...</td>\n",
       "      <td>...</td>\n",
       "      <td>...</td>\n",
       "      <td>...</td>\n",
       "    </tr>\n",
       "    <tr>\n",
       "      <th>13741</th>\n",
       "      <td>0</td>\n",
       "      <td>0</td>\n",
       "      <td>0</td>\n",
       "      <td>1</td>\n",
       "      <td>0</td>\n",
       "      <td>0</td>\n",
       "      <td>0</td>\n",
       "      <td>0</td>\n",
       "      <td>0</td>\n",
       "      <td>0</td>\n",
       "      <td>...</td>\n",
       "      <td>0</td>\n",
       "      <td>0</td>\n",
       "      <td>0</td>\n",
       "      <td>0</td>\n",
       "      <td>0</td>\n",
       "      <td>0</td>\n",
       "      <td>0</td>\n",
       "      <td>0</td>\n",
       "      <td>1</td>\n",
       "      <td>0</td>\n",
       "    </tr>\n",
       "    <tr>\n",
       "      <th>13742</th>\n",
       "      <td>0</td>\n",
       "      <td>0</td>\n",
       "      <td>0</td>\n",
       "      <td>0</td>\n",
       "      <td>0</td>\n",
       "      <td>0</td>\n",
       "      <td>1</td>\n",
       "      <td>0</td>\n",
       "      <td>0</td>\n",
       "      <td>0</td>\n",
       "      <td>...</td>\n",
       "      <td>0</td>\n",
       "      <td>1</td>\n",
       "      <td>0</td>\n",
       "      <td>0</td>\n",
       "      <td>0</td>\n",
       "      <td>0</td>\n",
       "      <td>0</td>\n",
       "      <td>0</td>\n",
       "      <td>0</td>\n",
       "      <td>0</td>\n",
       "    </tr>\n",
       "    <tr>\n",
       "      <th>13743</th>\n",
       "      <td>0</td>\n",
       "      <td>0</td>\n",
       "      <td>0</td>\n",
       "      <td>0</td>\n",
       "      <td>0</td>\n",
       "      <td>0</td>\n",
       "      <td>0</td>\n",
       "      <td>0</td>\n",
       "      <td>0</td>\n",
       "      <td>0</td>\n",
       "      <td>...</td>\n",
       "      <td>0</td>\n",
       "      <td>0</td>\n",
       "      <td>0</td>\n",
       "      <td>0</td>\n",
       "      <td>0</td>\n",
       "      <td>1</td>\n",
       "      <td>0</td>\n",
       "      <td>0</td>\n",
       "      <td>0</td>\n",
       "      <td>0</td>\n",
       "    </tr>\n",
       "    <tr>\n",
       "      <th>13744</th>\n",
       "      <td>0</td>\n",
       "      <td>0</td>\n",
       "      <td>0</td>\n",
       "      <td>1</td>\n",
       "      <td>0</td>\n",
       "      <td>0</td>\n",
       "      <td>1</td>\n",
       "      <td>0</td>\n",
       "      <td>0</td>\n",
       "      <td>0</td>\n",
       "      <td>...</td>\n",
       "      <td>0</td>\n",
       "      <td>0</td>\n",
       "      <td>0</td>\n",
       "      <td>0</td>\n",
       "      <td>0</td>\n",
       "      <td>0</td>\n",
       "      <td>0</td>\n",
       "      <td>0</td>\n",
       "      <td>0</td>\n",
       "      <td>0</td>\n",
       "    </tr>\n",
       "    <tr>\n",
       "      <th>13745</th>\n",
       "      <td>0</td>\n",
       "      <td>0</td>\n",
       "      <td>0</td>\n",
       "      <td>1</td>\n",
       "      <td>0</td>\n",
       "      <td>0</td>\n",
       "      <td>0</td>\n",
       "      <td>0</td>\n",
       "      <td>0</td>\n",
       "      <td>0</td>\n",
       "      <td>...</td>\n",
       "      <td>0</td>\n",
       "      <td>1</td>\n",
       "      <td>0</td>\n",
       "      <td>0</td>\n",
       "      <td>0</td>\n",
       "      <td>0</td>\n",
       "      <td>0</td>\n",
       "      <td>0</td>\n",
       "      <td>0</td>\n",
       "      <td>0</td>\n",
       "    </tr>\n",
       "  </tbody>\n",
       "</table>\n",
       "<p>13700 rows × 43 columns</p>\n",
       "</div>"
      ],
      "text/plain": [
       "       Action  Adventure  Cars  Comedy  Dementia  Demons  Drama  Ecchi  \\\n",
       "0           0          0     0       1         0       0      1      0   \n",
       "1           0          0     0       0         0       0      1      0   \n",
       "2           0          1     0       0         0       0      1      0   \n",
       "3           1          1     0       1         0       0      1      0   \n",
       "4           1          0     0       0         0       0      0      0   \n",
       "...       ...        ...   ...     ...       ...     ...    ...    ...   \n",
       "13741       0          0     0       1         0       0      0      0   \n",
       "13742       0          0     0       0         0       0      1      0   \n",
       "13743       0          0     0       0         0       0      0      0   \n",
       "13744       0          0     0       1         0       0      1      0   \n",
       "13745       0          0     0       1         0       0      0      0   \n",
       "\n",
       "       Fantasy  Game  ...  Shounen Ai  Slice of Life  Space  Sports  \\\n",
       "0            0     0  ...           0              0      0       1   \n",
       "1            0     0  ...           0              0      0       0   \n",
       "2            1     0  ...           0              0      0       0   \n",
       "3            1     0  ...           0              0      0       0   \n",
       "4            0     0  ...           0              0      0       0   \n",
       "...        ...   ...  ...         ...            ...    ...     ...   \n",
       "13741        0     0  ...           0              0      0       0   \n",
       "13742        0     0  ...           0              1      0       0   \n",
       "13743        0     0  ...           0              0      0       0   \n",
       "13744        0     0  ...           0              0      0       0   \n",
       "13745        0     0  ...           0              1      0       0   \n",
       "\n",
       "       Super Power  Supernatural  Thriller  Vampire  Yaoi  Yuri  \n",
       "0                0             0         0        0     0     0  \n",
       "1                0             0         0        0     0     0  \n",
       "2                0             0         0        0     0     0  \n",
       "3                0             0         0        0     0     0  \n",
       "4                0             1         0        1     0     0  \n",
       "...            ...           ...       ...      ...   ...   ...  \n",
       "13741            0             0         0        0     1     0  \n",
       "13742            0             0         0        0     0     0  \n",
       "13743            0             1         0        0     0     0  \n",
       "13744            0             0         0        0     0     0  \n",
       "13745            0             0         0        0     0     0  \n",
       "\n",
       "[13700 rows x 43 columns]"
      ]
     },
     "execution_count": 6,
     "metadata": {},
     "output_type": "execute_result"
    }
   ],
   "source": [
    "s = pd.Series(df.genre)\n",
    "dummy = pd.get_dummies(s.apply(pd.Series).stack()).groupby(level=0).sum()\n",
    "dummy"
   ]
  },
  {
   "cell_type": "code",
   "execution_count": 7,
   "metadata": {},
   "outputs": [
    {
     "data": {
      "text/plain": [
       "Index(['Unnamed: 0', 'title', 'synopsis', 'genre', 'rating', 'adult', 'Action',\n",
       "       'Adventure', 'Cars', 'Comedy', 'Dementia', 'Demons', 'Drama', 'Ecchi',\n",
       "       'Fantasy', 'Game', 'Harem', 'Hentai', 'Historical', 'Horror', 'Josei',\n",
       "       'Kids', 'Magic', 'Martial Arts', 'Mecha', 'Military', 'Music',\n",
       "       'Mystery', 'Parody', 'Police', 'Psychological', 'Romance', 'Samurai',\n",
       "       'School', 'Sci-Fi', 'Seinen', 'Shoujo', 'Shoujo Ai', 'Shounen',\n",
       "       'Shounen Ai', 'Slice of Life', 'Space', 'Sports', 'Super Power',\n",
       "       'Supernatural', 'Thriller', 'Vampire', 'Yaoi', 'Yuri'],\n",
       "      dtype='object')"
      ]
     },
     "execution_count": 7,
     "metadata": {},
     "output_type": "execute_result"
    }
   ],
   "source": [
    "df2 = pd.concat([df, dummy], axis=1)\n",
    "df2.columns"
   ]
  },
  {
   "cell_type": "code",
   "execution_count": 8,
   "metadata": {},
   "outputs": [
    {
     "name": "stderr",
     "output_type": "stream",
     "text": [
      "<ipython-input-8-b989705dfb04>:1: FutureWarning: In a future version of pandas all arguments of DataFrame.drop except for the argument 'labels' will be keyword-only\n",
      "  df2 = df2.drop('Unnamed: 0',1)\n"
     ]
    },
    {
     "data": {
      "text/html": [
       "<div>\n",
       "<style scoped>\n",
       "    .dataframe tbody tr th:only-of-type {\n",
       "        vertical-align: middle;\n",
       "    }\n",
       "\n",
       "    .dataframe tbody tr th {\n",
       "        vertical-align: top;\n",
       "    }\n",
       "\n",
       "    .dataframe thead th {\n",
       "        text-align: right;\n",
       "    }\n",
       "</style>\n",
       "<table border=\"1\" class=\"dataframe\">\n",
       "  <thead>\n",
       "    <tr style=\"text-align: right;\">\n",
       "      <th></th>\n",
       "      <th>title</th>\n",
       "      <th>synopsis</th>\n",
       "      <th>genre</th>\n",
       "      <th>rating</th>\n",
       "      <th>adult</th>\n",
       "      <th>Action</th>\n",
       "      <th>Adventure</th>\n",
       "      <th>Cars</th>\n",
       "      <th>Comedy</th>\n",
       "      <th>Dementia</th>\n",
       "      <th>...</th>\n",
       "      <th>Shounen Ai</th>\n",
       "      <th>Slice of Life</th>\n",
       "      <th>Space</th>\n",
       "      <th>Sports</th>\n",
       "      <th>Super Power</th>\n",
       "      <th>Supernatural</th>\n",
       "      <th>Thriller</th>\n",
       "      <th>Vampire</th>\n",
       "      <th>Yaoi</th>\n",
       "      <th>Yuri</th>\n",
       "    </tr>\n",
       "  </thead>\n",
       "  <tbody>\n",
       "    <tr>\n",
       "      <th>0</th>\n",
       "      <td>Haikyuu!! Second Season</td>\n",
       "      <td>Following their participation at the Inter-Hig...</td>\n",
       "      <td>[Comedy, Sports, Drama, School, Shounen]</td>\n",
       "      <td>PG-13 - Teens 13 or older</td>\n",
       "      <td>1</td>\n",
       "      <td>0.0</td>\n",
       "      <td>0.0</td>\n",
       "      <td>0.0</td>\n",
       "      <td>1.0</td>\n",
       "      <td>0.0</td>\n",
       "      <td>...</td>\n",
       "      <td>0.0</td>\n",
       "      <td>0.0</td>\n",
       "      <td>0.0</td>\n",
       "      <td>1.0</td>\n",
       "      <td>0.0</td>\n",
       "      <td>0.0</td>\n",
       "      <td>0.0</td>\n",
       "      <td>0.0</td>\n",
       "      <td>0.0</td>\n",
       "      <td>0.0</td>\n",
       "    </tr>\n",
       "    <tr>\n",
       "      <th>1</th>\n",
       "      <td>Shigatsu wa Kimi no Uso</td>\n",
       "      <td>Music accompanies the path of the human metron...</td>\n",
       "      <td>[Drama, Music, Romance, School, Shounen]</td>\n",
       "      <td>PG-13 - Teens 13 or older</td>\n",
       "      <td>1</td>\n",
       "      <td>0.0</td>\n",
       "      <td>0.0</td>\n",
       "      <td>0.0</td>\n",
       "      <td>0.0</td>\n",
       "      <td>0.0</td>\n",
       "      <td>...</td>\n",
       "      <td>0.0</td>\n",
       "      <td>0.0</td>\n",
       "      <td>0.0</td>\n",
       "      <td>0.0</td>\n",
       "      <td>0.0</td>\n",
       "      <td>0.0</td>\n",
       "      <td>0.0</td>\n",
       "      <td>0.0</td>\n",
       "      <td>0.0</td>\n",
       "      <td>0.0</td>\n",
       "    </tr>\n",
       "    <tr>\n",
       "      <th>2</th>\n",
       "      <td>Made in Abyss</td>\n",
       "      <td>The Abyss—a gaping chasm stretching down into ...</td>\n",
       "      <td>[Sci-Fi, Adventure, Mystery, Drama, Fantasy]</td>\n",
       "      <td>PG - Children</td>\n",
       "      <td>0</td>\n",
       "      <td>0.0</td>\n",
       "      <td>1.0</td>\n",
       "      <td>0.0</td>\n",
       "      <td>0.0</td>\n",
       "      <td>0.0</td>\n",
       "      <td>...</td>\n",
       "      <td>0.0</td>\n",
       "      <td>0.0</td>\n",
       "      <td>0.0</td>\n",
       "      <td>0.0</td>\n",
       "      <td>0.0</td>\n",
       "      <td>0.0</td>\n",
       "      <td>0.0</td>\n",
       "      <td>0.0</td>\n",
       "      <td>0.0</td>\n",
       "      <td>0.0</td>\n",
       "    </tr>\n",
       "    <tr>\n",
       "      <th>3</th>\n",
       "      <td>Fullmetal Alchemist: Brotherhood</td>\n",
       "      <td>\"In order for something to be obtained, someth...</td>\n",
       "      <td>[Action, Military, Adventure, Comedy, Drama, M...</td>\n",
       "      <td>PG-13 - Teens 13 or older</td>\n",
       "      <td>1</td>\n",
       "      <td>1.0</td>\n",
       "      <td>1.0</td>\n",
       "      <td>0.0</td>\n",
       "      <td>1.0</td>\n",
       "      <td>0.0</td>\n",
       "      <td>...</td>\n",
       "      <td>0.0</td>\n",
       "      <td>0.0</td>\n",
       "      <td>0.0</td>\n",
       "      <td>0.0</td>\n",
       "      <td>0.0</td>\n",
       "      <td>0.0</td>\n",
       "      <td>0.0</td>\n",
       "      <td>0.0</td>\n",
       "      <td>0.0</td>\n",
       "      <td>0.0</td>\n",
       "    </tr>\n",
       "    <tr>\n",
       "      <th>4</th>\n",
       "      <td>Kizumonogatari III: Reiketsu-hen</td>\n",
       "      <td>After helping revive the legendary vampire Kis...</td>\n",
       "      <td>[Action, Mystery, Supernatural, Vampire]</td>\n",
       "      <td>PG-13 - Teens 13 or older</td>\n",
       "      <td>1</td>\n",
       "      <td>1.0</td>\n",
       "      <td>0.0</td>\n",
       "      <td>0.0</td>\n",
       "      <td>0.0</td>\n",
       "      <td>0.0</td>\n",
       "      <td>...</td>\n",
       "      <td>0.0</td>\n",
       "      <td>0.0</td>\n",
       "      <td>0.0</td>\n",
       "      <td>0.0</td>\n",
       "      <td>0.0</td>\n",
       "      <td>1.0</td>\n",
       "      <td>0.0</td>\n",
       "      <td>1.0</td>\n",
       "      <td>0.0</td>\n",
       "      <td>0.0</td>\n",
       "    </tr>\n",
       "    <tr>\n",
       "      <th>...</th>\n",
       "      <td>...</td>\n",
       "      <td>...</td>\n",
       "      <td>...</td>\n",
       "      <td>...</td>\n",
       "      <td>...</td>\n",
       "      <td>...</td>\n",
       "      <td>...</td>\n",
       "      <td>...</td>\n",
       "      <td>...</td>\n",
       "      <td>...</td>\n",
       "      <td>...</td>\n",
       "      <td>...</td>\n",
       "      <td>...</td>\n",
       "      <td>...</td>\n",
       "      <td>...</td>\n",
       "      <td>...</td>\n",
       "      <td>...</td>\n",
       "      <td>...</td>\n",
       "      <td>...</td>\n",
       "      <td>...</td>\n",
       "      <td>...</td>\n",
       "    </tr>\n",
       "    <tr>\n",
       "      <th>13741</th>\n",
       "      <td>Koisuru Boukun</td>\n",
       "      <td>Tetsuhiro Morinaga is in love with his uppercl...</td>\n",
       "      <td>[Comedy, Romance, Yaoi]</td>\n",
       "      <td>G - All Ages</td>\n",
       "      <td>1</td>\n",
       "      <td>0.0</td>\n",
       "      <td>0.0</td>\n",
       "      <td>0.0</td>\n",
       "      <td>1.0</td>\n",
       "      <td>0.0</td>\n",
       "      <td>...</td>\n",
       "      <td>0.0</td>\n",
       "      <td>0.0</td>\n",
       "      <td>0.0</td>\n",
       "      <td>0.0</td>\n",
       "      <td>0.0</td>\n",
       "      <td>0.0</td>\n",
       "      <td>0.0</td>\n",
       "      <td>0.0</td>\n",
       "      <td>1.0</td>\n",
       "      <td>0.0</td>\n",
       "    </tr>\n",
       "    <tr>\n",
       "      <th>13742</th>\n",
       "      <td>Tentou Mushi no Uta</td>\n",
       "      <td>The adventures of seven orphan who live in pov...</td>\n",
       "      <td>[Drama, Slice of Life]</td>\n",
       "      <td>G - All Ages</td>\n",
       "      <td>0</td>\n",
       "      <td>0.0</td>\n",
       "      <td>0.0</td>\n",
       "      <td>0.0</td>\n",
       "      <td>0.0</td>\n",
       "      <td>0.0</td>\n",
       "      <td>...</td>\n",
       "      <td>0.0</td>\n",
       "      <td>1.0</td>\n",
       "      <td>0.0</td>\n",
       "      <td>0.0</td>\n",
       "      <td>0.0</td>\n",
       "      <td>0.0</td>\n",
       "      <td>0.0</td>\n",
       "      <td>0.0</td>\n",
       "      <td>0.0</td>\n",
       "      <td>0.0</td>\n",
       "    </tr>\n",
       "    <tr>\n",
       "      <th>13743</th>\n",
       "      <td>Koakuma Kanojo The Animation</td>\n",
       "      <td>It is rumored that a mysterious DVD exists and...</td>\n",
       "      <td>[Hentai, Supernatural, School]</td>\n",
       "      <td>R - 17+ (violence &amp; profanity)</td>\n",
       "      <td>1</td>\n",
       "      <td>0.0</td>\n",
       "      <td>0.0</td>\n",
       "      <td>0.0</td>\n",
       "      <td>0.0</td>\n",
       "      <td>0.0</td>\n",
       "      <td>...</td>\n",
       "      <td>0.0</td>\n",
       "      <td>0.0</td>\n",
       "      <td>0.0</td>\n",
       "      <td>0.0</td>\n",
       "      <td>0.0</td>\n",
       "      <td>1.0</td>\n",
       "      <td>0.0</td>\n",
       "      <td>0.0</td>\n",
       "      <td>0.0</td>\n",
       "      <td>0.0</td>\n",
       "    </tr>\n",
       "    <tr>\n",
       "      <th>13744</th>\n",
       "      <td>Tamayura: More Aggressive Picture Drama</td>\n",
       "      <td>Picture drama included in the 1st Blu-ray and ...</td>\n",
       "      <td>[Comedy, Drama]</td>\n",
       "      <td>G - All Ages</td>\n",
       "      <td>0</td>\n",
       "      <td>0.0</td>\n",
       "      <td>0.0</td>\n",
       "      <td>0.0</td>\n",
       "      <td>1.0</td>\n",
       "      <td>0.0</td>\n",
       "      <td>...</td>\n",
       "      <td>0.0</td>\n",
       "      <td>0.0</td>\n",
       "      <td>0.0</td>\n",
       "      <td>0.0</td>\n",
       "      <td>0.0</td>\n",
       "      <td>0.0</td>\n",
       "      <td>0.0</td>\n",
       "      <td>0.0</td>\n",
       "      <td>0.0</td>\n",
       "      <td>0.0</td>\n",
       "    </tr>\n",
       "    <tr>\n",
       "      <th>13745</th>\n",
       "      <td>Takunomi.</td>\n",
       "      <td>20-year-old Michiru Amatsuki moved to Tokyo du...</td>\n",
       "      <td>[Comedy, Slice of Life]</td>\n",
       "      <td>PG-13 - Teens 13 or older</td>\n",
       "      <td>1</td>\n",
       "      <td>0.0</td>\n",
       "      <td>0.0</td>\n",
       "      <td>0.0</td>\n",
       "      <td>1.0</td>\n",
       "      <td>0.0</td>\n",
       "      <td>...</td>\n",
       "      <td>0.0</td>\n",
       "      <td>1.0</td>\n",
       "      <td>0.0</td>\n",
       "      <td>0.0</td>\n",
       "      <td>0.0</td>\n",
       "      <td>0.0</td>\n",
       "      <td>0.0</td>\n",
       "      <td>0.0</td>\n",
       "      <td>0.0</td>\n",
       "      <td>0.0</td>\n",
       "    </tr>\n",
       "  </tbody>\n",
       "</table>\n",
       "<p>13746 rows × 48 columns</p>\n",
       "</div>"
      ],
      "text/plain": [
       "                                         title  \\\n",
       "0                      Haikyuu!! Second Season   \n",
       "1                      Shigatsu wa Kimi no Uso   \n",
       "2                                Made in Abyss   \n",
       "3             Fullmetal Alchemist: Brotherhood   \n",
       "4             Kizumonogatari III: Reiketsu-hen   \n",
       "...                                        ...   \n",
       "13741                           Koisuru Boukun   \n",
       "13742                      Tentou Mushi no Uta   \n",
       "13743             Koakuma Kanojo The Animation   \n",
       "13744  Tamayura: More Aggressive Picture Drama   \n",
       "13745                                Takunomi.   \n",
       "\n",
       "                                                synopsis  \\\n",
       "0      Following their participation at the Inter-Hig...   \n",
       "1      Music accompanies the path of the human metron...   \n",
       "2      The Abyss—a gaping chasm stretching down into ...   \n",
       "3      \"In order for something to be obtained, someth...   \n",
       "4      After helping revive the legendary vampire Kis...   \n",
       "...                                                  ...   \n",
       "13741  Tetsuhiro Morinaga is in love with his uppercl...   \n",
       "13742  The adventures of seven orphan who live in pov...   \n",
       "13743  It is rumored that a mysterious DVD exists and...   \n",
       "13744  Picture drama included in the 1st Blu-ray and ...   \n",
       "13745  20-year-old Michiru Amatsuki moved to Tokyo du...   \n",
       "\n",
       "                                                   genre  \\\n",
       "0               [Comedy, Sports, Drama, School, Shounen]   \n",
       "1               [Drama, Music, Romance, School, Shounen]   \n",
       "2           [Sci-Fi, Adventure, Mystery, Drama, Fantasy]   \n",
       "3      [Action, Military, Adventure, Comedy, Drama, M...   \n",
       "4               [Action, Mystery, Supernatural, Vampire]   \n",
       "...                                                  ...   \n",
       "13741                            [Comedy, Romance, Yaoi]   \n",
       "13742                             [Drama, Slice of Life]   \n",
       "13743                     [Hentai, Supernatural, School]   \n",
       "13744                                    [Comedy, Drama]   \n",
       "13745                            [Comedy, Slice of Life]   \n",
       "\n",
       "                               rating  adult  Action  Adventure  Cars  Comedy  \\\n",
       "0           PG-13 - Teens 13 or older      1     0.0        0.0   0.0     1.0   \n",
       "1           PG-13 - Teens 13 or older      1     0.0        0.0   0.0     0.0   \n",
       "2                       PG - Children      0     0.0        1.0   0.0     0.0   \n",
       "3           PG-13 - Teens 13 or older      1     1.0        1.0   0.0     1.0   \n",
       "4           PG-13 - Teens 13 or older      1     1.0        0.0   0.0     0.0   \n",
       "...                               ...    ...     ...        ...   ...     ...   \n",
       "13741                    G - All Ages      1     0.0        0.0   0.0     1.0   \n",
       "13742                    G - All Ages      0     0.0        0.0   0.0     0.0   \n",
       "13743  R - 17+ (violence & profanity)      1     0.0        0.0   0.0     0.0   \n",
       "13744                    G - All Ages      0     0.0        0.0   0.0     1.0   \n",
       "13745       PG-13 - Teens 13 or older      1     0.0        0.0   0.0     1.0   \n",
       "\n",
       "       Dementia  ...  Shounen Ai  Slice of Life  Space  Sports  Super Power  \\\n",
       "0           0.0  ...         0.0            0.0    0.0     1.0          0.0   \n",
       "1           0.0  ...         0.0            0.0    0.0     0.0          0.0   \n",
       "2           0.0  ...         0.0            0.0    0.0     0.0          0.0   \n",
       "3           0.0  ...         0.0            0.0    0.0     0.0          0.0   \n",
       "4           0.0  ...         0.0            0.0    0.0     0.0          0.0   \n",
       "...         ...  ...         ...            ...    ...     ...          ...   \n",
       "13741       0.0  ...         0.0            0.0    0.0     0.0          0.0   \n",
       "13742       0.0  ...         0.0            1.0    0.0     0.0          0.0   \n",
       "13743       0.0  ...         0.0            0.0    0.0     0.0          0.0   \n",
       "13744       0.0  ...         0.0            0.0    0.0     0.0          0.0   \n",
       "13745       0.0  ...         0.0            1.0    0.0     0.0          0.0   \n",
       "\n",
       "       Supernatural  Thriller  Vampire  Yaoi  Yuri  \n",
       "0               0.0       0.0      0.0   0.0   0.0  \n",
       "1               0.0       0.0      0.0   0.0   0.0  \n",
       "2               0.0       0.0      0.0   0.0   0.0  \n",
       "3               0.0       0.0      0.0   0.0   0.0  \n",
       "4               1.0       0.0      1.0   0.0   0.0  \n",
       "...             ...       ...      ...   ...   ...  \n",
       "13741           0.0       0.0      0.0   1.0   0.0  \n",
       "13742           0.0       0.0      0.0   0.0   0.0  \n",
       "13743           1.0       0.0      0.0   0.0   0.0  \n",
       "13744           0.0       0.0      0.0   0.0   0.0  \n",
       "13745           0.0       0.0      0.0   0.0   0.0  \n",
       "\n",
       "[13746 rows x 48 columns]"
      ]
     },
     "execution_count": 8,
     "metadata": {},
     "output_type": "execute_result"
    }
   ],
   "source": [
    "df2 = df2.drop('Unnamed: 0',1)\n",
    "df2"
   ]
  },
  {
   "cell_type": "code",
   "execution_count": 9,
   "metadata": {},
   "outputs": [
    {
     "name": "stdout",
     "output_type": "stream",
     "text": [
      "adults = 8531\n",
      "kids = 5215\n"
     ]
    }
   ],
   "source": [
    "print(\"adults =\",len(df2[df2.adult==1]))\n",
    "    \n",
    "print(\"kids =\",len(df2[df2.adult==0]))"
   ]
  },
  {
   "cell_type": "markdown",
   "metadata": {},
   "source": [
    "# Split into Train and Test Sets"
   ]
  },
  {
   "cell_type": "code",
   "execution_count": 10,
   "metadata": {},
   "outputs": [],
   "source": [
    "df_x = df.synopsis\n",
    "df_y = df.adult"
   ]
  },
  {
   "cell_type": "code",
   "execution_count": 7,
   "metadata": {},
   "outputs": [
    {
     "data": {
      "text/plain": [
       "0    Following their participation at the Inter-Hig...\n",
       "1    Music accompanies the path of the human metron...\n",
       "2    The Abyss—a gaping chasm stretching down into ...\n",
       "3    \"In order for something to be obtained, someth...\n",
       "4    After helping revive the legendary vampire Kis...\n",
       "Name: synopsis, dtype: object"
      ]
     },
     "execution_count": 7,
     "metadata": {},
     "output_type": "execute_result"
    }
   ],
   "source": [
    "df_x.head()"
   ]
  },
  {
   "cell_type": "code",
   "execution_count": 7,
   "metadata": {},
   "outputs": [
    {
     "data": {
      "text/plain": [
       "0    1\n",
       "1    1\n",
       "2    0\n",
       "3    1\n",
       "4    1\n",
       "Name: adult, dtype: int64"
      ]
     },
     "execution_count": 7,
     "metadata": {},
     "output_type": "execute_result"
    }
   ],
   "source": [
    "df_y.head()"
   ]
  },
  {
   "cell_type": "code",
   "execution_count": 52,
   "metadata": {},
   "outputs": [
    {
     "name": "stdout",
     "output_type": "stream",
     "text": [
      "adults = 5976\n",
      "kids = 3646\n"
     ]
    }
   ],
   "source": [
    "print(\"adults =\",len(y_train[y_train==1]))\n",
    "    \n",
    "print(\"kids =\",len(y_train[y_train==0]))"
   ]
  },
  {
   "cell_type": "code",
   "execution_count": 11,
   "metadata": {},
   "outputs": [],
   "source": [
    "x_train, x_test, y_train, y_test = train_test_split(\n",
    "            df_x, df_y, test_size = 0.3, random_state=42)"
   ]
  },
  {
   "cell_type": "code",
   "execution_count": 12,
   "metadata": {},
   "outputs": [
    {
     "data": {
      "text/plain": [
       "0"
      ]
     },
     "execution_count": 12,
     "metadata": {},
     "output_type": "execute_result"
    }
   ],
   "source": [
    "#X_train.dropna(inplace=True)\n",
    "x_train.isna().sum().sum()"
   ]
  },
  {
   "cell_type": "code",
   "execution_count": 10,
   "metadata": {},
   "outputs": [
    {
     "data": {
      "text/plain": [
       "1336     Sequel of Goulart Knights: Evoked the Beginnin...\n",
       "12397    Music video directed by Kakeru Mizui for the s...\n",
       "13272    Heroman specials released in DVD/BD volumes 2,...\n",
       "11771    The OVA Special which teams the Anime version ...\n",
       "10402    Having finished high school, Gorou Honda sets ...\n",
       "Name: synopsis, dtype: object"
      ]
     },
     "execution_count": 10,
     "metadata": {},
     "output_type": "execute_result"
    }
   ],
   "source": [
    "x_train.head()"
   ]
  },
  {
   "cell_type": "code",
   "execution_count": 10,
   "metadata": {},
   "outputs": [],
   "source": [
    "cv = CountVectorizer()\n",
    "\n",
    "X= cv.fit_transform(x_train)"
   ]
  },
  {
   "cell_type": "code",
   "execution_count": 64,
   "metadata": {},
   "outputs": [
    {
     "data": {
      "text/plain": [
       "array([[0., 0., 0., ..., 0., 0., 0.],\n",
       "       [0., 0., 0., ..., 0., 0., 0.],\n",
       "       [0., 0., 0., ..., 0., 0., 0.],\n",
       "       ...,\n",
       "       [0., 0., 0., ..., 0., 0., 0.],\n",
       "       [0., 0., 0., ..., 0., 0., 0.],\n",
       "       [0., 0., 0., ..., 0., 0., 0.]])"
      ]
     },
     "execution_count": 64,
     "metadata": {},
     "output_type": "execute_result"
    }
   ],
   "source": [
    "train_array = X.toarray()\n",
    "train_array"
   ]
  },
  {
   "cell_type": "code",
   "execution_count": 13,
   "metadata": {},
   "outputs": [
    {
     "data": {
      "text/plain": [
       "['afghanistan', 'aflac', 'afloat', 'aflutter', 'afoot']"
      ]
     },
     "execution_count": 13,
     "metadata": {},
     "output_type": "execute_result"
    }
   ],
   "source": [
    "features = cv.get_feature_names()\n",
    "features[1000:1005]"
   ]
  },
  {
   "cell_type": "code",
   "execution_count": 14,
   "metadata": {},
   "outputs": [
    {
     "data": {
      "text/plain": [
       "[array(['beginning', 'black', 'evoked', 'goulart', 'knights', 'of',\n",
       "        'sequel', 'the'], dtype='<U24')]"
      ]
     },
     "execution_count": 14,
     "metadata": {},
     "output_type": "execute_result"
    }
   ],
   "source": [
    "cv.inverse_transform(train_array[0])\n",
    "#shows the first synopsis"
   ]
  },
  {
   "cell_type": "code",
   "execution_count": 15,
   "metadata": {},
   "outputs": [
    {
     "data": {
      "text/plain": [
       "'Sequel of Goulart Knights: Evoked the Beginning Black.'"
      ]
     },
     "execution_count": 15,
     "metadata": {},
     "output_type": "execute_result"
    }
   ],
   "source": [
    "x_train.iloc[0]\n",
    "#first synopsis"
   ]
  },
  {
   "cell_type": "code",
   "execution_count": 11,
   "metadata": {},
   "outputs": [],
   "source": [
    "tf = TfidfVectorizer(min_df=1, stop_words='english', lowercase=True)"
   ]
  },
  {
   "cell_type": "code",
   "execution_count": 12,
   "metadata": {},
   "outputs": [
    {
     "data": {
      "text/plain": [
       "<9622x33801 sparse matrix of type '<class 'numpy.float64'>'\n",
       "\twith 302384 stored elements in Compressed Sparse Row format>"
      ]
     },
     "execution_count": 12,
     "metadata": {},
     "output_type": "execute_result"
    }
   ],
   "source": [
    "tfidf= tf.fit_transform(x_train)\n",
    "tfidf"
   ]
  },
  {
   "cell_type": "code",
   "execution_count": 18,
   "metadata": {},
   "outputs": [],
   "source": [
    "train_array = tfidf.toarray()"
   ]
  },
  {
   "cell_type": "code",
   "execution_count": 19,
   "metadata": {},
   "outputs": [
    {
     "data": {
      "text/plain": [
       "['aflutter', 'afoot', 'aforementioned', 'afortiori', 'afoul']"
      ]
     },
     "execution_count": 19,
     "metadata": {},
     "output_type": "execute_result"
    }
   ],
   "source": [
    "features = tf.get_feature_names()\n",
    "features[1000:1005]"
   ]
  },
  {
   "cell_type": "code",
   "execution_count": 20,
   "metadata": {},
   "outputs": [
    {
     "data": {
      "text/plain": [
       "<1x33801 sparse matrix of type '<class 'numpy.float64'>'\n",
       "\twith 6 stored elements in Compressed Sparse Row format>"
      ]
     },
     "execution_count": 20,
     "metadata": {},
     "output_type": "execute_result"
    }
   ],
   "source": [
    "tfidf[0]"
   ]
  },
  {
   "cell_type": "code",
   "execution_count": 21,
   "metadata": {},
   "outputs": [
    {
     "data": {
      "text/plain": [
       "[array(['black', 'beginning', 'evoked', 'knights', 'goulart', 'sequel'],\n",
       "       dtype='<U24')]"
      ]
     },
     "execution_count": 21,
     "metadata": {},
     "output_type": "execute_result"
    }
   ],
   "source": [
    "tf.inverse_transform(tfidf[0])\n",
    "#shows the first synopsis"
   ]
  },
  {
   "cell_type": "code",
   "execution_count": 22,
   "metadata": {},
   "outputs": [
    {
     "data": {
      "text/plain": [
       "'Sequel of Goulart Knights: Evoked the Beginning Black.'"
      ]
     },
     "execution_count": 22,
     "metadata": {},
     "output_type": "execute_result"
    }
   ],
   "source": [
    "x_train.iloc[0]"
   ]
  },
  {
   "cell_type": "code",
   "execution_count": 23,
   "metadata": {},
   "outputs": [],
   "source": [
    "#convert Adult 0's and 1's into integer\n",
    "y_train = y_train.astype('int')"
   ]
  },
  {
   "cell_type": "code",
   "execution_count": 24,
   "metadata": {},
   "outputs": [
    {
     "data": {
      "text/plain": [
       "1336     Sequel of Goulart Knights: Evoked the Beginnin...\n",
       "12397    Music video directed by Kakeru Mizui for the s...\n",
       "13272    Heroman specials released in DVD/BD volumes 2,...\n",
       "11771    The OVA Special which teams the Anime version ...\n",
       "10402    Having finished high school, Gorou Honda sets ...\n",
       "Name: synopsis, dtype: object"
      ]
     },
     "execution_count": 24,
     "metadata": {},
     "output_type": "execute_result"
    }
   ],
   "source": [
    "x_train.head()"
   ]
  },
  {
   "cell_type": "code",
   "execution_count": null,
   "metadata": {},
   "outputs": [],
   "source": []
  },
  {
   "cell_type": "code",
   "execution_count": 30,
   "metadata": {},
   "outputs": [],
   "source": [
    "# from sklearn.metrics.pairwise import euclidean_distances\n",
    "\n",
    "# text = df2['synopsis']\n",
    "# features = vectorizer.fit_transform(text).todense() \n",
    "# print( vectorizer.vocabulary_ )\n",
    "\n",
    "# for f in features:\n",
    "#     print( euclidean_distances(features[0], f) )"
   ]
  },
  {
   "cell_type": "code",
   "execution_count": 31,
   "metadata": {
    "id": "bYExBlSg6-Jo"
   },
   "outputs": [],
   "source": [
    "# cols=[ 'Action',\n",
    "#        'Adventure', 'Cars', 'Comedy', 'Dementia', 'Demons', 'Drama', 'Ecchi',\n",
    "#        'Fantasy', 'Game', 'Harem', 'Hentai', 'Historical', 'Horror', 'Josei',\n",
    "#        'Kids', 'Magic', 'Martial Arts', 'Mecha', 'Military', 'Music',\n",
    "#        'Mystery', 'Parody', 'Police', 'Psychological', 'Romance', 'Samurai',\n",
    "#        'School', 'Sci-Fi', 'Seinen', 'Shoujo', 'Shoujo Ai', 'Shounen',\n",
    "#        'Shounen Ai', 'Slice of Life', 'Space', 'Sports', 'Super Power',\n",
    "#        'Supernatural', 'Thriller', 'Vampire', 'Yaoi', 'Yuri']\n",
    "\n",
    "# X = data\n",
    "# # \n",
    "# y = df2.adult\n",
    "\n",
    "# X_train, X_test, y_train, y_test = train_test_split(\n",
    "#             X, y, test_size = 0.3, random_state=42)\n"
   ]
  },
  {
   "cell_type": "markdown",
   "metadata": {},
   "source": [
    "# Elbow Method"
   ]
  },
  {
   "cell_type": "code",
   "execution_count": 32,
   "metadata": {},
   "outputs": [],
   "source": [
    "distortions = []\n",
    "K = range(1,12)\n",
    "for k in K:\n",
    "    kmeanModel = KMeans(n_clusters=k)\n",
    "    kmeanModel.fit(tfidf)\n",
    "    distortions.append(kmeanModel.inertia_)"
   ]
  },
  {
   "cell_type": "code",
   "execution_count": 33,
   "metadata": {},
   "outputs": [
    {
     "data": {
      "image/png": "[encoded data removed]",
      "text/plain": [
       "<Figure size 1152x576 with 1 Axes>"
      ]
     },
     "metadata": {
      "needs_background": "light"
     },
     "output_type": "display_data"
    }
   ],
   "source": [
    "plt.figure(figsize=(16,8))\n",
    "plt.plot(K, distortions, 'bx-')\n",
    "plt.xlabel('k')\n",
    "plt.ylabel('Distortion')\n",
    "plt.title('The Elbow Method showing the optimal k')\n",
    "plt.show()"
   ]
  },
  {
   "cell_type": "markdown",
   "metadata": {},
   "source": [
    "# KneeLocator"
   ]
  },
  {
   "cell_type": "code",
   "execution_count": 34,
   "metadata": {},
   "outputs": [],
   "source": [
    "def find_k(df, increment=0, decrement=0):\n",
    "    \"\"\"Find the optimum k clusters\"\"\"\n",
    "    \n",
    "    sse = {}\n",
    "    \n",
    "    for k in range(1, 21):\n",
    "        kmeans = KMeans(n_clusters=k, random_state=1)\n",
    "        kmeans.fit(tfidf)\n",
    "        sse[k] = kmeans.inertia_\n",
    "    \n",
    "    kn = KneeLocator(x=list(sse.keys()), \n",
    "                 y=list(sse.values()), \n",
    "                 curve='convex', \n",
    "                 direction='decreasing')\n",
    "    k = kn.knee + increment - decrement\n",
    "    return k"
   ]
  },
  {
   "cell_type": "code",
   "execution_count": 35,
   "metadata": {},
   "outputs": [
    {
     "data": {
      "text/plain": [
       "9"
      ]
     },
     "execution_count": 35,
     "metadata": {},
     "output_type": "execute_result"
    }
   ],
   "source": [
    "find_k(tfidf)"
   ]
  },
  {
   "cell_type": "markdown",
   "metadata": {
    "id": "XTxd3Bl97Wdh"
   },
   "source": [
    "# KMeans"
   ]
  },
  {
   "cell_type": "markdown",
   "metadata": {},
   "source": [
    "k-means clustering is an unsupervised clustering algorithm that gathers and groups data into k number of clusters\n",
    "\n",
    "k-means clustering represent distance-based algorithms that rely on a metric"
   ]
  },
  {
   "cell_type": "code",
   "execution_count": 36,
   "metadata": {},
   "outputs": [],
   "source": [
    "kmeans = KMeans(n_clusters = 9, random_state=42)"
   ]
  },
  {
   "cell_type": "code",
   "execution_count": 37,
   "metadata": {},
   "outputs": [],
   "source": [
    "kmeans_model = kmeans.fit(tfidf)"
   ]
  },
  {
   "cell_type": "code",
   "execution_count": 38,
   "metadata": {},
   "outputs": [
    {
     "data": {
      "text/plain": [
       "array([7, 5, 0, ..., 7, 7, 1])"
      ]
     },
     "execution_count": 38,
     "metadata": {},
     "output_type": "execute_result"
    }
   ],
   "source": [
    "labels = kmeans_model.labels_\n",
    "labels"
   ]
  },
  {
   "cell_type": "code",
   "execution_count": 39,
   "metadata": {},
   "outputs": [
    {
     "data": {
      "text/plain": [
       "27"
      ]
     },
     "execution_count": 39,
     "metadata": {},
     "output_type": "execute_result"
    }
   ],
   "source": [
    "kmeans.n_iter_\n",
    "#number of clusters required to converge"
   ]
  },
  {
   "cell_type": "code",
   "execution_count": 40,
   "metadata": {},
   "outputs": [],
   "source": [
    "cluster_centers = kmeans.cluster_centers_"
   ]
  },
  {
   "cell_type": "code",
   "execution_count": 41,
   "metadata": {},
   "outputs": [
    {
     "name": "stdout",
     "output_type": "stream",
     "text": [
      "0: blithely duchy radwimps imperialist someone tsunashi vegetation entertainers vegetables rediscovered\n",
      "1: fermenting shinra anguish ebizori synthetic fukai runesoft tomoshibi suspiciously obstacle\n",
      "2: moonrise shinra unesco surfing clansmen adapts seishu incorporating kogarashi commissions\n",
      "3: wenches dustiness sns magecraft whistle resolved necessities mundanity vindicated legged\n",
      "4: seishu entertainers entertaining triforce ranked soma duchy anidb ainz rediscovering\n",
      "5: usuta mouri slogan unnumbered mikio negativity oahu prepare albedo farms\n",
      "6: bargaining majesty g7 buffeted vegetables adrift anidb envylia lessons eat\n",
      "7: sns sari stall geometric animetric anidb necessities legged daoko loaned\n",
      "8: scams scarecrow seishu forces 2nd entertainers tamine 3rd shunsou potomas\n"
     ]
    }
   ],
   "source": [
    "#return cluster center synopsis\n",
    "\n",
    "vocab_inverted = {}\n",
    "for word, column_index in cv.vocabulary_.items():\n",
    "    vocab_inverted[column_index] = word\n",
    "    \n",
    "def summarize_cluster(center, inv_voc, n):\n",
    "    # the centroid is a vector; we'll first make a list of weights and their corresponding dimensions\n",
    "    # e.g. [ (0.345, 0), (1.48, 1), (0.95, 2), ...]\n",
    "    center_index = [ (x, i) for i, x in enumerate(center) ]\n",
    "\n",
    "    # we sort this by the weights and select the top n\n",
    "    topn = sorted(center_index, reverse=True)[:n]\n",
    "\n",
    "    # we finally map this back to words, using the inverted vocabulary dict that we created above\n",
    "    return [ inv_voc[i] for _, i in topn ]\n",
    "\n",
    "for i, c in enumerate(cluster_centers):\n",
    "    print('{}:'.format(i), ' '.join(summarize_cluster(c, vocab_inverted, 10)))"
   ]
  },
  {
   "cell_type": "markdown",
   "metadata": {},
   "source": [
    "# PCA Graph"
   ]
  },
  {
   "cell_type": "code",
   "execution_count": 42,
   "metadata": {},
   "outputs": [],
   "source": [
    "#plot clusters"
   ]
  },
  {
   "cell_type": "code",
   "execution_count": 66,
   "metadata": {},
   "outputs": [],
   "source": [
    "Sc = StandardScaler()\n",
    "X = Sc.fit_transform(train_array)\n",
    "pca = PCA(2) \n",
    "pca_data = pd.DataFrame(pca.fit_transform(X),columns=['PC1','PC2'])"
   ]
  },
  {
   "cell_type": "code",
   "execution_count": 68,
   "metadata": {},
   "outputs": [],
   "source": [
    "df, y = make_blobs(n_samples=70, centers=9, n_features=43,random_state=999,cluster_std=1)"
   ]
  },
  {
   "cell_type": "code",
   "execution_count": 69,
   "metadata": {
    "scrolled": true
   },
   "outputs": [
    {
     "data": {
      "text/plain": [
       "<AxesSubplot:xlabel='PC1', ylabel='PC2'>"
      ]
     },
     "execution_count": 69,
     "metadata": {},
     "output_type": "execute_result"
    },
    {
     "data": {
      "image/png": "[encoded data removed]",
      "text/plain": [
       "<Figure size 432x288 with 1 Axes>"
      ]
     },
     "metadata": {
      "needs_background": "light"
     },
     "output_type": "display_data"
    }
   ],
   "source": [
    "kmeans =KMeans(n_clusters=9).fit(X)\n",
    "pca_data['cluster'] = pd.Categorical(kmeans.labels_)\n",
    "sns.scatterplot(x=\"PC1\",y=\"PC2\",hue=\"cluster\",data=pca_data)"
   ]
  },
  {
   "cell_type": "markdown",
   "metadata": {},
   "source": [
    "# Silhouette Score"
   ]
  },
  {
   "cell_type": "code",
   "execution_count": null,
   "metadata": {},
   "outputs": [],
   "source": [
    "#from sklearn import metrics"
   ]
  },
  {
   "cell_type": "code",
   "execution_count": 44,
   "metadata": {},
   "outputs": [
    {
     "data": {
      "text/plain": [
       "0.0067565160871760266"
      ]
     },
     "execution_count": 44,
     "metadata": {},
     "output_type": "execute_result"
    }
   ],
   "source": [
    "kmeans_model = KMeans(n_clusters=9, random_state=1).fit(tfidf)\n",
    "labels = kmeans_model.labels_\n",
    "metrics.silhouette_score(tfidf, labels, metric='euclidean')\n",
    "#The score isbetween -1 for incorrect clustering and +1 for highly dense clustering. \n",
    "#Scores around zero indicate overlapping clusters.\n",
    "#Score higher when clusters are dense and well separated, which relates to a standard concept of a cluster."
   ]
  },
  {
   "cell_type": "markdown",
   "metadata": {},
   "source": [
    "# Purity Score"
   ]
  },
  {
   "cell_type": "code",
   "execution_count": null,
   "metadata": {
    "id": "UeOWZBXUz6iO"
   },
   "outputs": [],
   "source": [
    "def purity_score(y_true, y_pred):\n",
    "    # compute contingency matrix (also called confusion matrix)\n",
    "    contingency_matrix = metrics.cluster.contingency_matrix(y_true, y_pred)\n",
    "    # return purity\n",
    "    return np.sum(np.amax(contingency_matrix, axis=0)) / np.sum(contingency_matrix)"
   ]
  },
  {
   "cell_type": "code",
   "execution_count": 47,
   "metadata": {
    "id": "0Iipx8ME0uXT"
   },
   "outputs": [
    {
     "name": "stdout",
     "output_type": "stream",
     "text": [
      "(4124, 144112)\n",
      "[5 6 0 ... 5 0 0]\n"
     ]
    }
   ],
   "source": [
    "tfidf_vec = TfidfVectorizer(ngram_range=(1,2), stop_words= 'english', lowercase=True)\n",
    "\n",
    "test_tfidf=tfidf_vec.fit_transform(x_test)\n",
    "\n",
    "print(test_tfidf.shape)\n",
    "\n",
    "kmeans_predict = kmeans.fit_predict(test_tfidf)\n",
    "print(kmeans_predict)"
   ]
  },
  {
   "cell_type": "code",
   "execution_count": 13,
   "metadata": {},
   "outputs": [
    {
     "data": {
      "text/plain": [
       "(array([ 308., 2081.,  395.,  568.,    0.,  269., 4104.,  897.,  457.,\n",
       "         543.]),\n",
       " array([0. , 0.8, 1.6, 2.4, 3.2, 4. , 4.8, 5.6, 6.4, 7.2, 8. ]),\n",
       " <BarContainer object of 10 artists>)"
      ]
     },
     "execution_count": 13,
     "metadata": {},
     "output_type": "execute_result"
    },
    {
     "data": {
      "image/png": "[encoded data removed]",
      "text/plain": [
       "<Figure size 432x288 with 1 Axes>"
      ]
     },
     "metadata": {
      "needs_background": "light"
     },
     "output_type": "display_data"
    }
   ],
   "source": [
    "clusterer = KMeans(n_clusters=9, init='k-means++', max_iter=100, n_init=1)\n",
    "clusts = clusterer.  fit_predict(tfidf)\n",
    "plt.hist(clusts)"
   ]
  },
  {
   "cell_type": "code",
   "execution_count": 19,
   "metadata": {},
   "outputs": [],
   "source": [
    "def purity_score(c, y):\n",
    "  '''From: http://www.caner.io/purity-in-python.html'''\n",
    "  A = np.c_[(c,y)]\n",
    "  n_accurate = 0.\n",
    "  for j in np.unique(A[:,0]):\n",
    "    z = A[A[:,0] == j, 1]\n",
    "    x = np.argmax(np.bincount(z))\n",
    "    n_accurate += len(z[z == x])\n",
    "  return n_accurate / A.shape[0]\n",
    "  \n",
    "def cluster_purity(c, y):\n",
    "  numy = len(set(y))\n",
    "  cvals = list(set(c)) #[str(ce) for ce in list(set(c))]\n",
    "  numc = len(cvals)\n",
    "  ind = [str(cval) for cval in cvals] #np.arange(numc)\n",
    "  bottom = np.zeros(numc)\n",
    "  for yidx in range(numy):\n",
    "    counts = np.zeros(numc)\n",
    "    for cidx in range(numc): #for cluster index in the number of cluster\n",
    "      num = len(list(filter(lambda p: p[0]==cvals[cidx] and p[1]==yidx, zip(c,y)))) \n",
    "    # number of( p[0] for cluster value, p[1] for actual label index, combine cluster value with label)\n",
    "      counts[cidx] = num\n",
    "    ax =plt.bar(ind, counts,bottom=bottom)\n",
    "    plt.xlabel(\"Cluster\")\n",
    "    plt.ylabel(\"Count of Animes\")\n",
    "\n",
    "    bottom = bottom + counts\n",
    "  plt.legend(y_train,loc=2)\n",
    "  \n"
   ]
  },
  {
   "cell_type": "code",
   "execution_count": 49,
   "metadata": {},
   "outputs": [
    {
     "name": "stdout",
     "output_type": "stream",
     "text": [
      "Purity: 0.6210766992309291\n"
     ]
    }
   ],
   "source": [
    "print('Purity:', purity_score(clusts, y_train))"
   ]
  },
  {
   "cell_type": "code",
   "execution_count": 28,
   "metadata": {},
   "outputs": [
    {
     "data": {
      "image/png": "[encoded data removed]",
      "text/plain": [
       "<Figure size 432x288 with 1 Axes>"
      ]
     },
     "metadata": {
      "needs_background": "light"
     },
     "output_type": "display_data"
    }
   ],
   "source": [
    "cluster_purity(clusts,y_train)"
   ]
  },
  {
   "cell_type": "code",
   "execution_count": 63,
   "metadata": {},
   "outputs": [
    {
     "name": "stdout",
     "output_type": "stream",
     "text": [
      "k= 1 done, inertia: 9546.056999850793\n",
      "k= 2 done, inertia: 9494.201679926176\n",
      "k= 3 done, inertia: 9452.51633980935\n",
      "k= 4 done, inertia: 9424.234542220625\n",
      "k= 5 done, inertia: 9400.12913289287\n",
      "k= 6 done, inertia: 9377.646076728968\n",
      "k= 7 done, inertia: 9354.272233051885\n",
      "k= 8 done, inertia: 9336.689170440464\n",
      "k= 9 done, inertia: 9332.143266418967\n"
     ]
    },
    {
     "data": {
      "text/plain": [
       "[<matplotlib.lines.Line2D at 0x1e818ad68b0>]"
      ]
     },
     "execution_count": 63,
     "metadata": {},
     "output_type": "execute_result"
    },
    {
     "data": {
      "image/png": "[encoded data removed]",
      "text/plain": [
       "<Figure size 432x288 with 1 Axes>"
      ]
     },
     "metadata": {
      "needs_background": "light"
     },
     "output_type": "display_data"
    }
   ],
   "source": [
    "inertias = []\n",
    "krange = range(1,10)\n",
    "for k in krange:\n",
    "  tclusterer = KMeans(n_clusters=k, init='k-means++', max_iter=100, n_init=1)\n",
    "  tclusterer.fit_predict(tfidf)\n",
    "  inertias.append(tclusterer.inertia_)\n",
    "  print('k=',k,'done, inertia:', tclusterer.inertia_)\n",
    "plt.plot(krange, inertias)"
   ]
  },
  {
   "cell_type": "markdown",
   "metadata": {
    "id": "m4aj6jwc7SOW"
   },
   "source": [
    "# K Nearest Neighbors"
   ]
  },
  {
   "cell_type": "markdown",
   "metadata": {},
   "source": [
    " supervised classification algorithm that will give new data points accordingly to the k number or the closest data points,"
   ]
  },
  {
   "cell_type": "code",
   "execution_count": null,
   "metadata": {},
   "outputs": [],
   "source": [
    "# text_clf = Pipeline([\n",
    "#     ('cv', CountVectorizer(lowercase=True)),\n",
    "#     ('tfidf', TfidfVectorizer(ngram_range=(1,2), stop_words= 'english', lowercase=True)),\n",
    "#     ('knn', NearestNeighbors(n_neighbors=num_neighs+1, algorithm='brute', metric='cosine'))\n",
    "# ])\n",
    "# # Fitting our train data to the pipeline\n",
    "# text_clf.fit(list(x_train), list(y_train))\n",
    "\n",
    "\n",
    "# # Predicting our test data\n",
    "# predicted = text_clf.predict(list(x_test))"
   ]
  },
  {
   "cell_type": "code",
   "execution_count": 66,
   "metadata": {},
   "outputs": [],
   "source": [
    "from sklearn.neighbors import KNeighborsClassifier\n",
    "# from sklearn.pipeline import Pipeline"
   ]
  },
  {
   "cell_type": "code",
   "execution_count": 64,
   "metadata": {},
   "outputs": [],
   "source": [
    "\n",
    "tfidf_vec = TfidfVectorizer(ngram_range=(1,2), stop_words= 'english', lowercase=True)\n",
    "x_train_tfidf = tfidf_vec.fit_transform(x_train)\n",
    "x_test_tfidf = tfidf_vec.transform(x_test)\n",
    "   "
   ]
  },
  {
   "cell_type": "code",
   "execution_count": 67,
   "metadata": {},
   "outputs": [],
   "source": [
    "knn = KNeighborsClassifier(n_neighbors=10)\n",
    "knn_model = knn.fit(x_train_tfidf, y_train)"
   ]
  },
  {
   "cell_type": "code",
   "execution_count": 68,
   "metadata": {},
   "outputs": [],
   "source": [
    "predicted = knn_model.predict(x_test_tfidf)"
   ]
  },
  {
   "cell_type": "code",
   "execution_count": 69,
   "metadata": {},
   "outputs": [
    {
     "name": "stdout",
     "output_type": "stream",
     "text": [
      "              precision    recall  f1-score   support\n",
      "\n",
      "           0       0.40      0.78      0.53      1569\n",
      "           1       0.68      0.30      0.41      2555\n",
      "\n",
      "    accuracy                           0.48      4124\n",
      "   macro avg       0.54      0.54      0.47      4124\n",
      "weighted avg       0.58      0.48      0.46      4124\n",
      "\n"
     ]
    }
   ],
   "source": [
    "print(metrics.classification_report(list(y_test), predicted))"
   ]
  },
  {
   "cell_type": "code",
   "execution_count": 71,
   "metadata": {},
   "outputs": [],
   "source": [
    "from sklearn.metrics import confusion_matrix\n",
    "def conf_matrix(y_true, y_predict):\n",
    "  data = confusion_matrix(y_true, y_predict)\n",
    "  index = ['Actual_0', 'Actual_1']\n",
    "  columns = ['Predicted_0', 'Predicted_1']\n",
    "  return pd.DataFrame(data, index, columns)\n",
    "\n"
   ]
  },
  {
   "cell_type": "code",
   "execution_count": 72,
   "metadata": {},
   "outputs": [
    {
     "data": {
      "text/html": [
       "<div>\n",
       "<style scoped>\n",
       "    .dataframe tbody tr th:only-of-type {\n",
       "        vertical-align: middle;\n",
       "    }\n",
       "\n",
       "    .dataframe tbody tr th {\n",
       "        vertical-align: top;\n",
       "    }\n",
       "\n",
       "    .dataframe thead th {\n",
       "        text-align: right;\n",
       "    }\n",
       "</style>\n",
       "<table border=\"1\" class=\"dataframe\">\n",
       "  <thead>\n",
       "    <tr style=\"text-align: right;\">\n",
       "      <th></th>\n",
       "      <th>Predicted_0</th>\n",
       "      <th>Predicted_1</th>\n",
       "    </tr>\n",
       "  </thead>\n",
       "  <tbody>\n",
       "    <tr>\n",
       "      <th>Actual_0</th>\n",
       "      <td>1216</td>\n",
       "      <td>353</td>\n",
       "    </tr>\n",
       "    <tr>\n",
       "      <th>Actual_1</th>\n",
       "      <td>1798</td>\n",
       "      <td>757</td>\n",
       "    </tr>\n",
       "  </tbody>\n",
       "</table>\n",
       "</div>"
      ],
      "text/plain": [
       "          Predicted_0  Predicted_1\n",
       "Actual_0         1216          353\n",
       "Actual_1         1798          757"
      ]
     },
     "execution_count": 72,
     "metadata": {},
     "output_type": "execute_result"
    }
   ],
   "source": [
    "conf_matrix(y_test,predicted)"
   ]
  },
  {
   "cell_type": "code",
   "execution_count": 73,
   "metadata": {},
   "outputs": [
    {
     "name": "stdout",
     "output_type": "stream",
     "text": [
      "We got an accuracy of 47.84190106692531 % over the test data.\n"
     ]
    }
   ],
   "source": [
    "print('We got an accuracy of',np.mean(predicted == list(y_test))*100, '% over the test data.')"
   ]
  },
  {
   "cell_type": "code",
   "execution_count": 97,
   "metadata": {},
   "outputs": [
    {
     "ename": "ValueError",
     "evalue": "all the input array dimensions for the concatenation axis must match exactly, but along dimension 0, the array at index 0 has size 1 and the array at index 1 has size 4124",
     "output_type": "error",
     "traceback": [
      "\u001b[1;31m---------------------------------------------------------------------------\u001b[0m",
      "\u001b[1;31mValueError\u001b[0m                                Traceback (most recent call last)",
      "\u001b[1;32m<ipython-input-97-3600857bb273>\u001b[0m in \u001b[0;36m<module>\u001b[1;34m\u001b[0m\n\u001b[1;32m----> 1\u001b[1;33m \u001b[0mprint\u001b[0m\u001b[1;33m(\u001b[0m\u001b[1;34m'Purity:'\u001b[0m\u001b[1;33m,\u001b[0m \u001b[0mpurity_score\u001b[0m\u001b[1;33m(\u001b[0m\u001b[0mx_test_tfidf\u001b[0m\u001b[1;33m,\u001b[0m \u001b[0mpredicted\u001b[0m\u001b[1;33m)\u001b[0m\u001b[1;33m)\u001b[0m\u001b[1;33m\u001b[0m\u001b[1;33m\u001b[0m\u001b[0m\n\u001b[0m\u001b[0;32m      2\u001b[0m \u001b[0mcluster_purity\u001b[0m\u001b[1;33m(\u001b[0m\u001b[0mx_test_tfidf\u001b[0m\u001b[1;33m,\u001b[0m \u001b[0mpredicted\u001b[0m\u001b[1;33m)\u001b[0m\u001b[1;33m\u001b[0m\u001b[1;33m\u001b[0m\u001b[0m\n",
      "\u001b[1;32m<ipython-input-61-8488dc0b5fd0>\u001b[0m in \u001b[0;36mpurity_score\u001b[1;34m(c, y)\u001b[0m\n\u001b[0;32m      1\u001b[0m \u001b[1;32mdef\u001b[0m \u001b[0mpurity_score\u001b[0m\u001b[1;33m(\u001b[0m\u001b[0mc\u001b[0m\u001b[1;33m,\u001b[0m \u001b[0my\u001b[0m\u001b[1;33m)\u001b[0m\u001b[1;33m:\u001b[0m\u001b[1;33m\u001b[0m\u001b[1;33m\u001b[0m\u001b[0m\n\u001b[0;32m      2\u001b[0m   \u001b[1;34m'''From: http://www.caner.io/purity-in-python.html'''\u001b[0m\u001b[1;33m\u001b[0m\u001b[1;33m\u001b[0m\u001b[0m\n\u001b[1;32m----> 3\u001b[1;33m   \u001b[0mA\u001b[0m \u001b[1;33m=\u001b[0m \u001b[0mnp\u001b[0m\u001b[1;33m.\u001b[0m\u001b[0mc_\u001b[0m\u001b[1;33m[\u001b[0m\u001b[1;33m(\u001b[0m\u001b[0mc\u001b[0m\u001b[1;33m,\u001b[0m\u001b[0my\u001b[0m\u001b[1;33m)\u001b[0m\u001b[1;33m]\u001b[0m\u001b[1;33m\u001b[0m\u001b[1;33m\u001b[0m\u001b[0m\n\u001b[0m\u001b[0;32m      4\u001b[0m   \u001b[0mn_accurate\u001b[0m \u001b[1;33m=\u001b[0m \u001b[1;36m0.\u001b[0m\u001b[1;33m\u001b[0m\u001b[1;33m\u001b[0m\u001b[0m\n\u001b[0;32m      5\u001b[0m   \u001b[1;32mfor\u001b[0m \u001b[0mj\u001b[0m \u001b[1;32min\u001b[0m \u001b[0mnp\u001b[0m\u001b[1;33m.\u001b[0m\u001b[0munique\u001b[0m\u001b[1;33m(\u001b[0m\u001b[0mA\u001b[0m\u001b[1;33m[\u001b[0m\u001b[1;33m:\u001b[0m\u001b[1;33m,\u001b[0m\u001b[1;36m0\u001b[0m\u001b[1;33m]\u001b[0m\u001b[1;33m)\u001b[0m\u001b[1;33m:\u001b[0m\u001b[1;33m\u001b[0m\u001b[1;33m\u001b[0m\u001b[0m\n",
      "\u001b[1;32m~\\anaconda3\\lib\\site-packages\\numpy\\lib\\index_tricks.py\u001b[0m in \u001b[0;36m__getitem__\u001b[1;34m(self, key)\u001b[0m\n\u001b[0;32m    411\u001b[0m                 \u001b[0mobjs\u001b[0m\u001b[1;33m[\u001b[0m\u001b[0mk\u001b[0m\u001b[1;33m]\u001b[0m \u001b[1;33m=\u001b[0m \u001b[0mobjs\u001b[0m\u001b[1;33m[\u001b[0m\u001b[0mk\u001b[0m\u001b[1;33m]\u001b[0m\u001b[1;33m.\u001b[0m\u001b[0mastype\u001b[0m\u001b[1;33m(\u001b[0m\u001b[0mfinal_dtype\u001b[0m\u001b[1;33m)\u001b[0m\u001b[1;33m\u001b[0m\u001b[1;33m\u001b[0m\u001b[0m\n\u001b[0;32m    412\u001b[0m \u001b[1;33m\u001b[0m\u001b[0m\n\u001b[1;32m--> 413\u001b[1;33m         \u001b[0mres\u001b[0m \u001b[1;33m=\u001b[0m \u001b[0mself\u001b[0m\u001b[1;33m.\u001b[0m\u001b[0mconcatenate\u001b[0m\u001b[1;33m(\u001b[0m\u001b[0mtuple\u001b[0m\u001b[1;33m(\u001b[0m\u001b[0mobjs\u001b[0m\u001b[1;33m)\u001b[0m\u001b[1;33m,\u001b[0m \u001b[0maxis\u001b[0m\u001b[1;33m=\u001b[0m\u001b[0maxis\u001b[0m\u001b[1;33m)\u001b[0m\u001b[1;33m\u001b[0m\u001b[1;33m\u001b[0m\u001b[0m\n\u001b[0m\u001b[0;32m    414\u001b[0m \u001b[1;33m\u001b[0m\u001b[0m\n\u001b[0;32m    415\u001b[0m         \u001b[1;32mif\u001b[0m \u001b[0mmatrix\u001b[0m\u001b[1;33m:\u001b[0m\u001b[1;33m\u001b[0m\u001b[1;33m\u001b[0m\u001b[0m\n",
      "\u001b[1;32m<__array_function__ internals>\u001b[0m in \u001b[0;36mconcatenate\u001b[1;34m(*args, **kwargs)\u001b[0m\n",
      "\u001b[1;31mValueError\u001b[0m: all the input array dimensions for the concatenation axis must match exactly, but along dimension 0, the array at index 0 has size 1 and the array at index 1 has size 4124"
     ]
    }
   ],
   "source": [
    "print('Purity:', purity_score(x_test_tfidf, predicted))\n",
    "cluster_purity(x_test_tfidf, predicted)"
   ]
  },
  {
   "cell_type": "markdown",
   "metadata": {},
   "source": [
    "# Naive Bayes"
   ]
  },
  {
   "cell_type": "code",
   "execution_count": 75,
   "metadata": {},
   "outputs": [],
   "source": [
    "from sklearn.naive_bayes import MultinomialNB\n",
    "mnb = MultinomialNB()"
   ]
  },
  {
   "cell_type": "code",
   "execution_count": 76,
   "metadata": {},
   "outputs": [
    {
     "data": {
      "text/plain": [
       "MultinomialNB()"
      ]
     },
     "execution_count": 76,
     "metadata": {},
     "output_type": "execute_result"
    }
   ],
   "source": [
    "mnb.fit(tfidf,y_train)"
   ]
  },
  {
   "cell_type": "code",
   "execution_count": 77,
   "metadata": {},
   "outputs": [],
   "source": [
    "x_testcv=tf.transform(x_test)"
   ]
  },
  {
   "cell_type": "code",
   "execution_count": 78,
   "metadata": {},
   "outputs": [],
   "source": [
    "pred = mnb.predict(x_testcv)"
   ]
  },
  {
   "cell_type": "code",
   "execution_count": 79,
   "metadata": {},
   "outputs": [
    {
     "data": {
      "text/plain": [
       "array([1, 1, 1, ..., 0, 1, 1])"
      ]
     },
     "execution_count": 79,
     "metadata": {},
     "output_type": "execute_result"
    }
   ],
   "source": [
    "pred"
   ]
  },
  {
   "cell_type": "code",
   "execution_count": 80,
   "metadata": {},
   "outputs": [
    {
     "data": {
      "text/plain": [
       "array([1, 1, 1, ..., 1, 1, 1], dtype=int64)"
      ]
     },
     "execution_count": 80,
     "metadata": {},
     "output_type": "execute_result"
    }
   ],
   "source": [
    "actual = np.array(y_test)\n",
    "actual"
   ]
  },
  {
   "cell_type": "code",
   "execution_count": 81,
   "metadata": {},
   "outputs": [
    {
     "name": "stdout",
     "output_type": "stream",
     "text": [
      "[[2520   35]\n",
      " [1532   37]]\n",
      "              precision    recall  f1-score   support\n",
      "\n",
      "           1       0.62      0.99      0.76      2555\n",
      "           0       0.51      0.02      0.05      1569\n",
      "\n",
      "    accuracy                           0.62      4124\n",
      "   macro avg       0.57      0.50      0.40      4124\n",
      "weighted avg       0.58      0.62      0.49      4124\n",
      "\n"
     ]
    }
   ],
   "source": [
    "from sklearn import metrics\n",
    "print(metrics.confusion_matrix(actual, pred, labels=[1,0]))\n",
    "print(metrics.classification_report(actual, pred, labels=[1,0]))"
   ]
  },
  {
   "cell_type": "code",
   "execution_count": 82,
   "metadata": {},
   "outputs": [
    {
     "data": {
      "text/html": [
       "<div>\n",
       "<style scoped>\n",
       "    .dataframe tbody tr th:only-of-type {\n",
       "        vertical-align: middle;\n",
       "    }\n",
       "\n",
       "    .dataframe tbody tr th {\n",
       "        vertical-align: top;\n",
       "    }\n",
       "\n",
       "    .dataframe thead th {\n",
       "        text-align: right;\n",
       "    }\n",
       "</style>\n",
       "<table border=\"1\" class=\"dataframe\">\n",
       "  <thead>\n",
       "    <tr style=\"text-align: right;\">\n",
       "      <th></th>\n",
       "      <th>Predicted_0</th>\n",
       "      <th>Predicted_1</th>\n",
       "    </tr>\n",
       "  </thead>\n",
       "  <tbody>\n",
       "    <tr>\n",
       "      <th>Actual_0</th>\n",
       "      <td>37</td>\n",
       "      <td>1532</td>\n",
       "    </tr>\n",
       "    <tr>\n",
       "      <th>Actual_1</th>\n",
       "      <td>35</td>\n",
       "      <td>2520</td>\n",
       "    </tr>\n",
       "  </tbody>\n",
       "</table>\n",
       "</div>"
      ],
      "text/plain": [
       "          Predicted_0  Predicted_1\n",
       "Actual_0           37         1532\n",
       "Actual_1           35         2520"
      ]
     },
     "execution_count": 82,
     "metadata": {},
     "output_type": "execute_result"
    }
   ],
   "source": [
    "conf_matrix(actual,pred)"
   ]
  },
  {
   "cell_type": "code",
   "execution_count": 83,
   "metadata": {},
   "outputs": [
    {
     "name": "stdout",
     "output_type": "stream",
     "text": [
      "We got an accuracy of 62.002909796314256 % over the test data.\n"
     ]
    }
   ],
   "source": [
    "frac_correct = np.mean(pred == actual)\n",
    "print('We got an accuracy of',frac_correct*100, '% over the test data.')"
   ]
  },
  {
   "cell_type": "markdown",
   "metadata": {
    "id": "pNjieLak7CuX"
   },
   "source": [
    "# DBScan"
   ]
  },
  {
   "cell_type": "code",
   "execution_count": 30,
   "metadata": {},
   "outputs": [
    {
     "name": "stdout",
     "output_type": "stream",
     "text": [
      "Purity: 0.86 , 10 :: 0.6222199127000624\n",
      "Purity: 0.86 , 20 :: 0.6210766992309291\n",
      "Purity: 0.86 , 30 :: 0.6210766992309291\n",
      "Purity: 0.86 , 40 :: 0.6210766992309291\n",
      "Purity: 0.86 , 50 :: 0.6210766992309291\n",
      "Purity: 0.86 , 60 :: 0.6210766992309291\n",
      "Purity: 0.86 , 70 :: 0.6211806277281231\n",
      "Purity: 0.86 , 80 :: 0.621284556225317\n",
      "Purity: 0.86 , 90 :: 0.621284556225317\n",
      "Purity: 0.87 , 10 :: 0.6214924132197048\n",
      "Purity: 0.87 , 20 :: 0.6210766992309291\n",
      "Purity: 0.87 , 30 :: 0.6210766992309291\n",
      "Purity: 0.87 , 40 :: 0.6210766992309291\n",
      "Purity: 0.87 , 50 :: 0.6210766992309291\n",
      "Purity: 0.87 , 60 :: 0.6210766992309291\n",
      "Purity: 0.87 , 70 :: 0.621388484722511\n",
      "Purity: 0.87 , 80 :: 0.621388484722511\n",
      "Purity: 0.87 , 90 :: 0.621388484722511\n"
     ]
    }
   ],
   "source": [
    "# Purity of eps_range, number of samples, purity score\n",
    "\n",
    "features = TfidfVectorizer(ngram_range=(1,2), stop_words= 'english', lowercase=True)\n",
    "train_vectors = features.fit_transform(x_train)\n",
    "eps_range = np.arange(0.86,0.87,0.01)\n",
    "max_purity = 0\n",
    "for i in range(len(eps_range)):\n",
    "    for j in range(10, 100, 10):\n",
    "        clusterer = sklearn.cluster.DBSCAN(eps=eps_range[i], min_samples=j, metric='cosine')\n",
    "        clusts = clusterer.fit_predict(train_vectors)\n",
    "        score = purity_score(clusts, y_train)\n",
    "        print('Purity:', eps_range[i], \",\", j, \"::\",  score)\n",
    "        if( score > max_purity):\n",
    "            opt_eps = eps_range[i]\n",
    "            opt_min_sample = j \n",
    "            max_purity = score\n",
    "\n",
    "#opt_min_sample = 10\n",
    "#opt_eps = 0.87\n",
    "\n"
   ]
  },
  {
   "cell_type": "code",
   "execution_count": 31,
   "metadata": {},
   "outputs": [
    {
     "data": {
      "text/plain": [
       "(array([9.463e+03, 2.800e+01, 1.000e+01, 1.900e+01, 1.100e+01, 4.200e+01,\n",
       "        7.000e+00, 1.000e+01, 1.300e+01, 1.900e+01]),\n",
       " array([-1. ,  0.2,  1.4,  2.6,  3.8,  5. ,  6.2,  7.4,  8.6,  9.8, 11. ]),\n",
       " <BarContainer object of 10 artists>)"
      ]
     },
     "execution_count": 31,
     "metadata": {},
     "output_type": "execute_result"
    },
    {
     "data": {
      "image/png": "[encoded data removed]",
      "text/plain": [
       "<Figure size 432x288 with 1 Axes>"
      ]
     },
     "metadata": {
      "needs_background": "light"
     },
     "output_type": "display_data"
    }
   ],
   "source": [
    "clusterer = sklearn.cluster.DBSCAN(eps=opt_eps, min_samples=opt_min_sample, metric='cosine')\n",
    "clusts = clusterer.fit_predict(train_vectors)\n",
    "plt.hist(clusts)"
   ]
  },
  {
   "cell_type": "code",
   "execution_count": 28,
   "metadata": {},
   "outputs": [
    {
     "data": {
      "text/plain": [
       "(0.86, 10)"
      ]
     },
     "execution_count": 28,
     "metadata": {},
     "output_type": "execute_result"
    }
   ],
   "source": [
    "opt_eps, opt_min_sample"
   ]
  },
  {
   "cell_type": "code",
   "execution_count": 32,
   "metadata": {},
   "outputs": [
    {
     "name": "stdout",
     "output_type": "stream",
     "text": [
      "Purity: 0.6222199127000624\n"
     ]
    },
    {
     "data": {
      "image/png": "[encoded data removed]",
      "text/plain": [
       "<Figure size 432x288 with 1 Axes>"
      ]
     },
     "metadata": {
      "needs_background": "light"
     },
     "output_type": "display_data"
    }
   ],
   "source": [
    "cluster_purity(clusts, y_train)\n",
    "print('Purity:', purity_score(clusts, y_train))"
   ]
  },
  {
   "cell_type": "code",
   "execution_count": 54,
   "metadata": {
    "id": "lQmpVOJ00uXY"
   },
   "outputs": [
    {
     "name": "stdout",
     "output_type": "stream",
     "text": [
      "adults = 5976\n",
      "kids = 3646\n"
     ]
    }
   ],
   "source": [
    "print(\"adults =\",len(y_train[y_train==1]))\n",
    "    \n",
    "print(\"kids =\",len(y_train[y_train==0]))"
   ]
  },
  {
   "cell_type": "markdown",
   "metadata": {
    "id": "eLv2EeVy7GQR"
   },
   "source": [
    "# Agglomerative Clustering"
   ]
  },
  {
   "cell_type": "code",
   "execution_count": 13,
   "metadata": {
    "id": "hOQn3YZU0uXb"
   },
   "outputs": [],
   "source": [
    "num_points = 1000\n",
    "data = x_train[:num_points]\n",
    "target= y_train[:num_points]\n",
    "features = TfidfVectorizer(ngram_range=(1,2), stop_words= 'english', lowercase=True)\n",
    "vecs = features.fit_transform(data)\n",
    "aggclusterer = sklearn.cluster.AgglomerativeClustering() \n",
    "clusts = np.array(aggclusterer.fit_predict(vecs.toarray()))"
   ]
  },
  {
   "cell_type": "code",
   "execution_count": 28,
   "metadata": {},
   "outputs": [],
   "source": [
    "def clustering_from_tree(clusterer, i):\n",
    "  n_samples = clusterer.n_leaves_\n",
    "  nodes = aggclusterer.children_\n",
    "  pclusts = np.arange(n_samples)\n",
    "  def label_clust(nid, label):\n",
    "    if nid < n_samples:\n",
    "      pclusts[nid] = label\n",
    "    else:\n",
    "      lchild = nodes[nid-n_samples][0]\n",
    "      label_clust(lchild, label)\n",
    "      rchild = nodes[nid-n_samples][1]\n",
    "      label_clust(rchild, label)\n",
    "\n",
    "  #simulate the clustering\n",
    "  for j in range(i):\n",
    "    lchild = nodes[j][0]\n",
    "    label_clust(lchild, n_samples+j)\n",
    "    rchild = nodes[j][1]\n",
    "    label_clust(rchild, n_samples+j)\n",
    "  return pclusts"
   ]
  },
  {
   "cell_type": "code",
   "execution_count": 31,
   "metadata": {},
   "outputs": [
    {
     "name": "stdout",
     "output_type": "stream",
     "text": [
      "Number of clusters 500\n"
     ]
    },
    {
     "data": {
      "image/png": "[encoded data removed]",
      "text/plain": [
       "<Figure size 432x288 with 1 Axes>"
      ]
     },
     "metadata": {
      "needs_background": "light"
     },
     "output_type": "display_data"
    }
   ],
   "source": [
    "agg_clusts = clustering_from_tree(aggclusterer, 500)\n",
    "plt.hist([str(c) for c in agg_clusts])\n",
    "print(\"Number of clusters\", len(list(set(agg_clusts))))"
   ]
  },
  {
   "cell_type": "code",
   "execution_count": null,
   "metadata": {},
   "outputs": [],
   "source": [
    "#import scipy.cluster.hierarchy as sch"
   ]
  },
  {
   "cell_type": "code",
   "execution_count": 27,
   "metadata": {},
   "outputs": [],
   "source": [
    "agglom_predict = aggclusterer.fit_predict(vecs.toarray())\n",
    "# print(agglom_predict)"
   ]
  },
  {
   "cell_type": "code",
   "execution_count": 29,
   "metadata": {},
   "outputs": [
    {
     "name": "stdout",
     "output_type": "stream",
     "text": [
      "Purity: 1.0\n"
     ]
    },
    {
     "data": {
      "image/png": "[encoded data removed]",
      "text/plain": [
       "<Figure size 432x288 with 1 Axes>"
      ]
     },
     "metadata": {
      "needs_background": "light"
     },
     "output_type": "display_data"
    }
   ],
   "source": [
    "print('Purity:', purity_score(agg_clusts, agglom_predict))\n",
    "cluster_purity(agg_clusts, agglom_predict)"
   ]
  },
  {
   "cell_type": "code",
   "execution_count": 53,
   "metadata": {},
   "outputs": [
    {
     "name": "stdout",
     "output_type": "stream",
     "text": [
      "adults = 10\n",
      "kids = 490\n"
     ]
    }
   ],
   "source": [
    "print(\"adults =\",len(agglom_predict[agglom_predict==1]))\n",
    "    \n",
    "print(\"kids =\",len(agglom_predict[agglom_predict==0]))"
   ]
  },
  {
   "cell_type": "code",
   "execution_count": 90,
   "metadata": {},
   "outputs": [
    {
     "data": {
      "image/png": "[encoded data removed]",
      "text/plain": [
       "<Figure size 504x360 with 1 Axes>"
      ]
     },
     "metadata": {
      "needs_background": "light"
     },
     "output_type": "display_data"
    }
   ],
   "source": [
    "plt.figure(figsize=(7,5))\n",
    "dend = sch.dendrogram(sch.linkage(vecs.toarray(), method='ward'))\n",
    "plt.show()"
   ]
  },
  {
   "cell_type": "code",
   "execution_count": 88,
   "metadata": {},
   "outputs": [
    {
     "data": {
      "text/plain": [
       "[<matplotlib.lines.Line2D at 0x1e818a09250>]"
      ]
     },
     "execution_count": 88,
     "metadata": {},
     "output_type": "execute_result"
    },
    {
     "data": {
      "image/png": "[encoded data removed]",
      "text/plain": [
       "<Figure size 432x288 with 1 Axes>"
      ]
     },
     "metadata": {
      "needs_background": "light"
     },
     "output_type": "display_data"
    }
   ],
   "source": [
    "numcs = []\n",
    "purities = []\n",
    "for i in range(num_points):\n",
    "  clusts = clustering_from_tree(clusterer, i)\n",
    "  numc = len(list(set(clusts)))\n",
    "  numcs.append(numc)\n",
    "  purities.append(purity_score(clusts, target))\n",
    "plt.plot(range(num_points), purities)"
   ]
  }
 ],
 "metadata": {
  "colab": {
   "collapsed_sections": [],
   "name": "Copy of Wk6 - Clustering.ipynb",
   "provenance": []
  },
  "kernelspec": {
   "display_name": "Python 3",
   "language": "python",
   "name": "python3"
  },
  "language_info": {
   "codemirror_mode": {
    "name": "ipython",
    "version": 3
   },
   "file_extension": ".py",
   "mimetype": "text/x-python",
   "name": "python",
   "nbconvert_exporter": "python",
   "pygments_lexer": "ipython3",
   "version": "3.8.8"
  }
 },
 "nbformat": 4,
 "nbformat_minor": 1
}
